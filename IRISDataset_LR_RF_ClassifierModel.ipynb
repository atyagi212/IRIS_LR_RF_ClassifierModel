{
  "nbformat": 4,
  "nbformat_minor": 0,
  "metadata": {
    "colab": {
      "provenance": [],
      "collapsed_sections": [
        "EjuPshRqErWS",
        "V2wOkYw6v7wN",
        "-vv5-5IcjeFM",
        "mBkLcNS_j-ks",
        "yLysV3Nz9ikk",
        "_sSNFrYP1qzh",
        "561rZVclwB3F",
        "wKFJwI2awWEc",
        "B4PcJirPt6Ug",
        "WsvrCQVgweJE",
        "Z_ACyERVwh6E",
        "IWlw-VPRwodE",
        "XNKAHRT_wujd",
        "yG343H6Zw9XF",
        "6c_rcI5YxHzk",
        "d1rJ4gJYxYt0",
        "JtiKLaoFxgEU",
        "sMbSmw40v8WB",
        "kD5BLyjHxx1l",
        "aud-oJf8x1VV",
        "mozhVpQGx_Qd",
        "Bh32EgtvyPbG",
        "FbX-JrNZy-uu",
        "JVG-WtiCyk-m",
        "rfuDoTr7ytfV"
      ]
    },
    "kernelspec": {
      "name": "python3",
      "display_name": "Python 3"
    },
    "language_info": {
      "name": "python"
    }
  },
  "cells": [
    {
      "cell_type": "code",
      "execution_count": 1,
      "metadata": {
        "id": "z7mVatdjyi69"
      },
      "outputs": [],
      "source": [
        "import pandas as pd\n",
        "import matplotlib.pyplot as plt\n",
        "import seaborn as sns\n",
        "import numpy as np\n",
        "import time\n",
        "from sklearn.model_selection import train_test_split, cross_val_score, GridSearchCV \n",
        "from sklearn.ensemble import RandomForestClassifier\n",
        "from sklearn.linear_model import LogisticRegression\n",
        "from sklearn.neural_network import MLPClassifier\n",
        "from sklearn.metrics import accuracy_score, precision_score, recall_score, confusion_matrix\n",
        "%matplotlib inline"
      ]
    },
    {
      "cell_type": "code",
      "source": [
        "df = pd.read_csv('./sample_data/iris.csv')"
      ],
      "metadata": {
        "id": "ye9tvJBSy2Za"
      },
      "execution_count": 2,
      "outputs": []
    },
    {
      "cell_type": "markdown",
      "source": [
        "# Exploratory Data Analysis"
      ],
      "metadata": {
        "id": "EjuPshRqErWS"
      }
    },
    {
      "cell_type": "code",
      "source": [
        "# get info for continuous variables\n",
        "df.describe()"
      ],
      "metadata": {
        "colab": {
          "base_uri": "https://localhost:8080/",
          "height": 300
        },
        "id": "3JhEknurzYqm",
        "outputId": "a22361c7-8b10-472b-98d6-2d6673c8045e"
      },
      "execution_count": 3,
      "outputs": [
        {
          "output_type": "execute_result",
          "data": {
            "text/plain": [
              "       sepal.length  sepal.width  petal.length  petal.width\n",
              "count    150.000000   150.000000    150.000000   150.000000\n",
              "mean       5.843333     3.057333      3.758000     1.199333\n",
              "std        0.828066     0.435866      1.765298     0.762238\n",
              "min        4.300000     2.000000      1.000000     0.100000\n",
              "25%        5.100000     2.800000      1.600000     0.300000\n",
              "50%        5.800000     3.000000      4.350000     1.300000\n",
              "75%        6.400000     3.300000      5.100000     1.800000\n",
              "max        7.900000     4.400000      6.900000     2.500000"
            ],
            "text/html": [
              "\n",
              "  <div id=\"df-ad4e6839-8b84-4161-a29c-e65f096b3cb6\">\n",
              "    <div class=\"colab-df-container\">\n",
              "      <div>\n",
              "<style scoped>\n",
              "    .dataframe tbody tr th:only-of-type {\n",
              "        vertical-align: middle;\n",
              "    }\n",
              "\n",
              "    .dataframe tbody tr th {\n",
              "        vertical-align: top;\n",
              "    }\n",
              "\n",
              "    .dataframe thead th {\n",
              "        text-align: right;\n",
              "    }\n",
              "</style>\n",
              "<table border=\"1\" class=\"dataframe\">\n",
              "  <thead>\n",
              "    <tr style=\"text-align: right;\">\n",
              "      <th></th>\n",
              "      <th>sepal.length</th>\n",
              "      <th>sepal.width</th>\n",
              "      <th>petal.length</th>\n",
              "      <th>petal.width</th>\n",
              "    </tr>\n",
              "  </thead>\n",
              "  <tbody>\n",
              "    <tr>\n",
              "      <th>count</th>\n",
              "      <td>150.000000</td>\n",
              "      <td>150.000000</td>\n",
              "      <td>150.000000</td>\n",
              "      <td>150.000000</td>\n",
              "    </tr>\n",
              "    <tr>\n",
              "      <th>mean</th>\n",
              "      <td>5.843333</td>\n",
              "      <td>3.057333</td>\n",
              "      <td>3.758000</td>\n",
              "      <td>1.199333</td>\n",
              "    </tr>\n",
              "    <tr>\n",
              "      <th>std</th>\n",
              "      <td>0.828066</td>\n",
              "      <td>0.435866</td>\n",
              "      <td>1.765298</td>\n",
              "      <td>0.762238</td>\n",
              "    </tr>\n",
              "    <tr>\n",
              "      <th>min</th>\n",
              "      <td>4.300000</td>\n",
              "      <td>2.000000</td>\n",
              "      <td>1.000000</td>\n",
              "      <td>0.100000</td>\n",
              "    </tr>\n",
              "    <tr>\n",
              "      <th>25%</th>\n",
              "      <td>5.100000</td>\n",
              "      <td>2.800000</td>\n",
              "      <td>1.600000</td>\n",
              "      <td>0.300000</td>\n",
              "    </tr>\n",
              "    <tr>\n",
              "      <th>50%</th>\n",
              "      <td>5.800000</td>\n",
              "      <td>3.000000</td>\n",
              "      <td>4.350000</td>\n",
              "      <td>1.300000</td>\n",
              "    </tr>\n",
              "    <tr>\n",
              "      <th>75%</th>\n",
              "      <td>6.400000</td>\n",
              "      <td>3.300000</td>\n",
              "      <td>5.100000</td>\n",
              "      <td>1.800000</td>\n",
              "    </tr>\n",
              "    <tr>\n",
              "      <th>max</th>\n",
              "      <td>7.900000</td>\n",
              "      <td>4.400000</td>\n",
              "      <td>6.900000</td>\n",
              "      <td>2.500000</td>\n",
              "    </tr>\n",
              "  </tbody>\n",
              "</table>\n",
              "</div>\n",
              "      <button class=\"colab-df-convert\" onclick=\"convertToInteractive('df-ad4e6839-8b84-4161-a29c-e65f096b3cb6')\"\n",
              "              title=\"Convert this dataframe to an interactive table.\"\n",
              "              style=\"display:none;\">\n",
              "        \n",
              "  <svg xmlns=\"http://www.w3.org/2000/svg\" height=\"24px\"viewBox=\"0 0 24 24\"\n",
              "       width=\"24px\">\n",
              "    <path d=\"M0 0h24v24H0V0z\" fill=\"none\"/>\n",
              "    <path d=\"M18.56 5.44l.94 2.06.94-2.06 2.06-.94-2.06-.94-.94-2.06-.94 2.06-2.06.94zm-11 1L8.5 8.5l.94-2.06 2.06-.94-2.06-.94L8.5 2.5l-.94 2.06-2.06.94zm10 10l.94 2.06.94-2.06 2.06-.94-2.06-.94-.94-2.06-.94 2.06-2.06.94z\"/><path d=\"M17.41 7.96l-1.37-1.37c-.4-.4-.92-.59-1.43-.59-.52 0-1.04.2-1.43.59L10.3 9.45l-7.72 7.72c-.78.78-.78 2.05 0 2.83L4 21.41c.39.39.9.59 1.41.59.51 0 1.02-.2 1.41-.59l7.78-7.78 2.81-2.81c.8-.78.8-2.07 0-2.86zM5.41 20L4 18.59l7.72-7.72 1.47 1.35L5.41 20z\"/>\n",
              "  </svg>\n",
              "      </button>\n",
              "      \n",
              "  <style>\n",
              "    .colab-df-container {\n",
              "      display:flex;\n",
              "      flex-wrap:wrap;\n",
              "      gap: 12px;\n",
              "    }\n",
              "\n",
              "    .colab-df-convert {\n",
              "      background-color: #E8F0FE;\n",
              "      border: none;\n",
              "      border-radius: 50%;\n",
              "      cursor: pointer;\n",
              "      display: none;\n",
              "      fill: #1967D2;\n",
              "      height: 32px;\n",
              "      padding: 0 0 0 0;\n",
              "      width: 32px;\n",
              "    }\n",
              "\n",
              "    .colab-df-convert:hover {\n",
              "      background-color: #E2EBFA;\n",
              "      box-shadow: 0px 1px 2px rgba(60, 64, 67, 0.3), 0px 1px 3px 1px rgba(60, 64, 67, 0.15);\n",
              "      fill: #174EA6;\n",
              "    }\n",
              "\n",
              "    [theme=dark] .colab-df-convert {\n",
              "      background-color: #3B4455;\n",
              "      fill: #D2E3FC;\n",
              "    }\n",
              "\n",
              "    [theme=dark] .colab-df-convert:hover {\n",
              "      background-color: #434B5C;\n",
              "      box-shadow: 0px 1px 3px 1px rgba(0, 0, 0, 0.15);\n",
              "      filter: drop-shadow(0px 1px 2px rgba(0, 0, 0, 0.3));\n",
              "      fill: #FFFFFF;\n",
              "    }\n",
              "  </style>\n",
              "\n",
              "      <script>\n",
              "        const buttonEl =\n",
              "          document.querySelector('#df-ad4e6839-8b84-4161-a29c-e65f096b3cb6 button.colab-df-convert');\n",
              "        buttonEl.style.display =\n",
              "          google.colab.kernel.accessAllowed ? 'block' : 'none';\n",
              "\n",
              "        async function convertToInteractive(key) {\n",
              "          const element = document.querySelector('#df-ad4e6839-8b84-4161-a29c-e65f096b3cb6');\n",
              "          const dataTable =\n",
              "            await google.colab.kernel.invokeFunction('convertToInteractive',\n",
              "                                                     [key], {});\n",
              "          if (!dataTable) return;\n",
              "\n",
              "          const docLinkHtml = 'Like what you see? Visit the ' +\n",
              "            '<a target=\"_blank\" href=https://colab.research.google.com/notebooks/data_table.ipynb>data table notebook</a>'\n",
              "            + ' to learn more about interactive tables.';\n",
              "          element.innerHTML = '';\n",
              "          dataTable['output_type'] = 'display_data';\n",
              "          await google.colab.output.renderOutput(dataTable, element);\n",
              "          const docLink = document.createElement('div');\n",
              "          docLink.innerHTML = docLinkHtml;\n",
              "          element.appendChild(docLink);\n",
              "        }\n",
              "      </script>\n",
              "    </div>\n",
              "  </div>\n",
              "  "
            ]
          },
          "metadata": {},
          "execution_count": 3
        }
      ]
    },
    {
      "cell_type": "code",
      "source": [
        "df.head()"
      ],
      "metadata": {
        "colab": {
          "base_uri": "https://localhost:8080/",
          "height": 206
        },
        "id": "ExuUlI3fiOt2",
        "outputId": "2791893d-f0a0-4963-8aad-3e8d8e47a870"
      },
      "execution_count": 4,
      "outputs": [
        {
          "output_type": "execute_result",
          "data": {
            "text/plain": [
              "   sepal.length  sepal.width  petal.length  petal.width variety\n",
              "0           5.1          3.5           1.4          0.2  Setosa\n",
              "1           4.9          3.0           1.4          0.2  Setosa\n",
              "2           4.7          3.2           1.3          0.2  Setosa\n",
              "3           4.6          3.1           1.5          0.2  Setosa\n",
              "4           5.0          3.6           1.4          0.2  Setosa"
            ],
            "text/html": [
              "\n",
              "  <div id=\"df-6034c39a-869e-4ce7-b24c-b6629d07d194\">\n",
              "    <div class=\"colab-df-container\">\n",
              "      <div>\n",
              "<style scoped>\n",
              "    .dataframe tbody tr th:only-of-type {\n",
              "        vertical-align: middle;\n",
              "    }\n",
              "\n",
              "    .dataframe tbody tr th {\n",
              "        vertical-align: top;\n",
              "    }\n",
              "\n",
              "    .dataframe thead th {\n",
              "        text-align: right;\n",
              "    }\n",
              "</style>\n",
              "<table border=\"1\" class=\"dataframe\">\n",
              "  <thead>\n",
              "    <tr style=\"text-align: right;\">\n",
              "      <th></th>\n",
              "      <th>sepal.length</th>\n",
              "      <th>sepal.width</th>\n",
              "      <th>petal.length</th>\n",
              "      <th>petal.width</th>\n",
              "      <th>variety</th>\n",
              "    </tr>\n",
              "  </thead>\n",
              "  <tbody>\n",
              "    <tr>\n",
              "      <th>0</th>\n",
              "      <td>5.1</td>\n",
              "      <td>3.5</td>\n",
              "      <td>1.4</td>\n",
              "      <td>0.2</td>\n",
              "      <td>Setosa</td>\n",
              "    </tr>\n",
              "    <tr>\n",
              "      <th>1</th>\n",
              "      <td>4.9</td>\n",
              "      <td>3.0</td>\n",
              "      <td>1.4</td>\n",
              "      <td>0.2</td>\n",
              "      <td>Setosa</td>\n",
              "    </tr>\n",
              "    <tr>\n",
              "      <th>2</th>\n",
              "      <td>4.7</td>\n",
              "      <td>3.2</td>\n",
              "      <td>1.3</td>\n",
              "      <td>0.2</td>\n",
              "      <td>Setosa</td>\n",
              "    </tr>\n",
              "    <tr>\n",
              "      <th>3</th>\n",
              "      <td>4.6</td>\n",
              "      <td>3.1</td>\n",
              "      <td>1.5</td>\n",
              "      <td>0.2</td>\n",
              "      <td>Setosa</td>\n",
              "    </tr>\n",
              "    <tr>\n",
              "      <th>4</th>\n",
              "      <td>5.0</td>\n",
              "      <td>3.6</td>\n",
              "      <td>1.4</td>\n",
              "      <td>0.2</td>\n",
              "      <td>Setosa</td>\n",
              "    </tr>\n",
              "  </tbody>\n",
              "</table>\n",
              "</div>\n",
              "      <button class=\"colab-df-convert\" onclick=\"convertToInteractive('df-6034c39a-869e-4ce7-b24c-b6629d07d194')\"\n",
              "              title=\"Convert this dataframe to an interactive table.\"\n",
              "              style=\"display:none;\">\n",
              "        \n",
              "  <svg xmlns=\"http://www.w3.org/2000/svg\" height=\"24px\"viewBox=\"0 0 24 24\"\n",
              "       width=\"24px\">\n",
              "    <path d=\"M0 0h24v24H0V0z\" fill=\"none\"/>\n",
              "    <path d=\"M18.56 5.44l.94 2.06.94-2.06 2.06-.94-2.06-.94-.94-2.06-.94 2.06-2.06.94zm-11 1L8.5 8.5l.94-2.06 2.06-.94-2.06-.94L8.5 2.5l-.94 2.06-2.06.94zm10 10l.94 2.06.94-2.06 2.06-.94-2.06-.94-.94-2.06-.94 2.06-2.06.94z\"/><path d=\"M17.41 7.96l-1.37-1.37c-.4-.4-.92-.59-1.43-.59-.52 0-1.04.2-1.43.59L10.3 9.45l-7.72 7.72c-.78.78-.78 2.05 0 2.83L4 21.41c.39.39.9.59 1.41.59.51 0 1.02-.2 1.41-.59l7.78-7.78 2.81-2.81c.8-.78.8-2.07 0-2.86zM5.41 20L4 18.59l7.72-7.72 1.47 1.35L5.41 20z\"/>\n",
              "  </svg>\n",
              "      </button>\n",
              "      \n",
              "  <style>\n",
              "    .colab-df-container {\n",
              "      display:flex;\n",
              "      flex-wrap:wrap;\n",
              "      gap: 12px;\n",
              "    }\n",
              "\n",
              "    .colab-df-convert {\n",
              "      background-color: #E8F0FE;\n",
              "      border: none;\n",
              "      border-radius: 50%;\n",
              "      cursor: pointer;\n",
              "      display: none;\n",
              "      fill: #1967D2;\n",
              "      height: 32px;\n",
              "      padding: 0 0 0 0;\n",
              "      width: 32px;\n",
              "    }\n",
              "\n",
              "    .colab-df-convert:hover {\n",
              "      background-color: #E2EBFA;\n",
              "      box-shadow: 0px 1px 2px rgba(60, 64, 67, 0.3), 0px 1px 3px 1px rgba(60, 64, 67, 0.15);\n",
              "      fill: #174EA6;\n",
              "    }\n",
              "\n",
              "    [theme=dark] .colab-df-convert {\n",
              "      background-color: #3B4455;\n",
              "      fill: #D2E3FC;\n",
              "    }\n",
              "\n",
              "    [theme=dark] .colab-df-convert:hover {\n",
              "      background-color: #434B5C;\n",
              "      box-shadow: 0px 1px 3px 1px rgba(0, 0, 0, 0.15);\n",
              "      filter: drop-shadow(0px 1px 2px rgba(0, 0, 0, 0.3));\n",
              "      fill: #FFFFFF;\n",
              "    }\n",
              "  </style>\n",
              "\n",
              "      <script>\n",
              "        const buttonEl =\n",
              "          document.querySelector('#df-6034c39a-869e-4ce7-b24c-b6629d07d194 button.colab-df-convert');\n",
              "        buttonEl.style.display =\n",
              "          google.colab.kernel.accessAllowed ? 'block' : 'none';\n",
              "\n",
              "        async function convertToInteractive(key) {\n",
              "          const element = document.querySelector('#df-6034c39a-869e-4ce7-b24c-b6629d07d194');\n",
              "          const dataTable =\n",
              "            await google.colab.kernel.invokeFunction('convertToInteractive',\n",
              "                                                     [key], {});\n",
              "          if (!dataTable) return;\n",
              "\n",
              "          const docLinkHtml = 'Like what you see? Visit the ' +\n",
              "            '<a target=\"_blank\" href=https://colab.research.google.com/notebooks/data_table.ipynb>data table notebook</a>'\n",
              "            + ' to learn more about interactive tables.';\n",
              "          element.innerHTML = '';\n",
              "          dataTable['output_type'] = 'display_data';\n",
              "          await google.colab.output.renderOutput(dataTable, element);\n",
              "          const docLink = document.createElement('div');\n",
              "          docLink.innerHTML = docLinkHtml;\n",
              "          element.appendChild(docLink);\n",
              "        }\n",
              "      </script>\n",
              "    </div>\n",
              "  </div>\n",
              "  "
            ]
          },
          "metadata": {},
          "execution_count": 4
        }
      ]
    },
    {
      "cell_type": "code",
      "source": [
        "# get count of samples for each variety\n",
        "df.groupby('variety').count()"
      ],
      "metadata": {
        "colab": {
          "base_uri": "https://localhost:8080/",
          "height": 175
        },
        "id": "rn7YT6hg0fnv",
        "outputId": "be7ccfa4-e933-47b8-8c87-23e6fc2033b5"
      },
      "execution_count": 5,
      "outputs": [
        {
          "output_type": "execute_result",
          "data": {
            "text/plain": [
              "            sepal.length  sepal.width  petal.length  petal.width\n",
              "variety                                                         \n",
              "Setosa                50           50            50           50\n",
              "Versicolor            50           50            50           50\n",
              "Virginica             50           50            50           50"
            ],
            "text/html": [
              "\n",
              "  <div id=\"df-cf2966cc-26a6-4e2d-847c-fb003755278c\">\n",
              "    <div class=\"colab-df-container\">\n",
              "      <div>\n",
              "<style scoped>\n",
              "    .dataframe tbody tr th:only-of-type {\n",
              "        vertical-align: middle;\n",
              "    }\n",
              "\n",
              "    .dataframe tbody tr th {\n",
              "        vertical-align: top;\n",
              "    }\n",
              "\n",
              "    .dataframe thead th {\n",
              "        text-align: right;\n",
              "    }\n",
              "</style>\n",
              "<table border=\"1\" class=\"dataframe\">\n",
              "  <thead>\n",
              "    <tr style=\"text-align: right;\">\n",
              "      <th></th>\n",
              "      <th>sepal.length</th>\n",
              "      <th>sepal.width</th>\n",
              "      <th>petal.length</th>\n",
              "      <th>petal.width</th>\n",
              "    </tr>\n",
              "    <tr>\n",
              "      <th>variety</th>\n",
              "      <th></th>\n",
              "      <th></th>\n",
              "      <th></th>\n",
              "      <th></th>\n",
              "    </tr>\n",
              "  </thead>\n",
              "  <tbody>\n",
              "    <tr>\n",
              "      <th>Setosa</th>\n",
              "      <td>50</td>\n",
              "      <td>50</td>\n",
              "      <td>50</td>\n",
              "      <td>50</td>\n",
              "    </tr>\n",
              "    <tr>\n",
              "      <th>Versicolor</th>\n",
              "      <td>50</td>\n",
              "      <td>50</td>\n",
              "      <td>50</td>\n",
              "      <td>50</td>\n",
              "    </tr>\n",
              "    <tr>\n",
              "      <th>Virginica</th>\n",
              "      <td>50</td>\n",
              "      <td>50</td>\n",
              "      <td>50</td>\n",
              "      <td>50</td>\n",
              "    </tr>\n",
              "  </tbody>\n",
              "</table>\n",
              "</div>\n",
              "      <button class=\"colab-df-convert\" onclick=\"convertToInteractive('df-cf2966cc-26a6-4e2d-847c-fb003755278c')\"\n",
              "              title=\"Convert this dataframe to an interactive table.\"\n",
              "              style=\"display:none;\">\n",
              "        \n",
              "  <svg xmlns=\"http://www.w3.org/2000/svg\" height=\"24px\"viewBox=\"0 0 24 24\"\n",
              "       width=\"24px\">\n",
              "    <path d=\"M0 0h24v24H0V0z\" fill=\"none\"/>\n",
              "    <path d=\"M18.56 5.44l.94 2.06.94-2.06 2.06-.94-2.06-.94-.94-2.06-.94 2.06-2.06.94zm-11 1L8.5 8.5l.94-2.06 2.06-.94-2.06-.94L8.5 2.5l-.94 2.06-2.06.94zm10 10l.94 2.06.94-2.06 2.06-.94-2.06-.94-.94-2.06-.94 2.06-2.06.94z\"/><path d=\"M17.41 7.96l-1.37-1.37c-.4-.4-.92-.59-1.43-.59-.52 0-1.04.2-1.43.59L10.3 9.45l-7.72 7.72c-.78.78-.78 2.05 0 2.83L4 21.41c.39.39.9.59 1.41.59.51 0 1.02-.2 1.41-.59l7.78-7.78 2.81-2.81c.8-.78.8-2.07 0-2.86zM5.41 20L4 18.59l7.72-7.72 1.47 1.35L5.41 20z\"/>\n",
              "  </svg>\n",
              "      </button>\n",
              "      \n",
              "  <style>\n",
              "    .colab-df-container {\n",
              "      display:flex;\n",
              "      flex-wrap:wrap;\n",
              "      gap: 12px;\n",
              "    }\n",
              "\n",
              "    .colab-df-convert {\n",
              "      background-color: #E8F0FE;\n",
              "      border: none;\n",
              "      border-radius: 50%;\n",
              "      cursor: pointer;\n",
              "      display: none;\n",
              "      fill: #1967D2;\n",
              "      height: 32px;\n",
              "      padding: 0 0 0 0;\n",
              "      width: 32px;\n",
              "    }\n",
              "\n",
              "    .colab-df-convert:hover {\n",
              "      background-color: #E2EBFA;\n",
              "      box-shadow: 0px 1px 2px rgba(60, 64, 67, 0.3), 0px 1px 3px 1px rgba(60, 64, 67, 0.15);\n",
              "      fill: #174EA6;\n",
              "    }\n",
              "\n",
              "    [theme=dark] .colab-df-convert {\n",
              "      background-color: #3B4455;\n",
              "      fill: #D2E3FC;\n",
              "    }\n",
              "\n",
              "    [theme=dark] .colab-df-convert:hover {\n",
              "      background-color: #434B5C;\n",
              "      box-shadow: 0px 1px 3px 1px rgba(0, 0, 0, 0.15);\n",
              "      filter: drop-shadow(0px 1px 2px rgba(0, 0, 0, 0.3));\n",
              "      fill: #FFFFFF;\n",
              "    }\n",
              "  </style>\n",
              "\n",
              "      <script>\n",
              "        const buttonEl =\n",
              "          document.querySelector('#df-cf2966cc-26a6-4e2d-847c-fb003755278c button.colab-df-convert');\n",
              "        buttonEl.style.display =\n",
              "          google.colab.kernel.accessAllowed ? 'block' : 'none';\n",
              "\n",
              "        async function convertToInteractive(key) {\n",
              "          const element = document.querySelector('#df-cf2966cc-26a6-4e2d-847c-fb003755278c');\n",
              "          const dataTable =\n",
              "            await google.colab.kernel.invokeFunction('convertToInteractive',\n",
              "                                                     [key], {});\n",
              "          if (!dataTable) return;\n",
              "\n",
              "          const docLinkHtml = 'Like what you see? Visit the ' +\n",
              "            '<a target=\"_blank\" href=https://colab.research.google.com/notebooks/data_table.ipynb>data table notebook</a>'\n",
              "            + ' to learn more about interactive tables.';\n",
              "          element.innerHTML = '';\n",
              "          dataTable['output_type'] = 'display_data';\n",
              "          await google.colab.output.renderOutput(dataTable, element);\n",
              "          const docLink = document.createElement('div');\n",
              "          docLink.innerHTML = docLinkHtml;\n",
              "          element.appendChild(docLink);\n",
              "        }\n",
              "      </script>\n",
              "    </div>\n",
              "  </div>\n",
              "  "
            ]
          },
          "metadata": {},
          "execution_count": 5
        }
      ]
    },
    {
      "cell_type": "code",
      "source": [
        "# check if there are any null values\n",
        "df.isnull().sum()"
      ],
      "metadata": {
        "colab": {
          "base_uri": "https://localhost:8080/"
        },
        "id": "4a-vodxN1Ce3",
        "outputId": "94408281-2e26-4d35-c4d2-5928d7cd2c4f"
      },
      "execution_count": 6,
      "outputs": [
        {
          "output_type": "execute_result",
          "data": {
            "text/plain": [
              "sepal.length    0\n",
              "sepal.width     0\n",
              "petal.length    0\n",
              "petal.width     0\n",
              "variety         0\n",
              "dtype: int64"
            ]
          },
          "metadata": {},
          "execution_count": 6
        }
      ]
    },
    {
      "cell_type": "markdown",
      "source": [
        "# Data Visualization\n"
      ],
      "metadata": {
        "id": "V2wOkYw6v7wN"
      }
    },
    {
      "cell_type": "markdown",
      "source": [
        "#### Plot features using histogram"
      ],
      "metadata": {
        "id": "-vv5-5IcjeFM"
      }
    },
    {
      "cell_type": "code",
      "source": [
        "# plot data of each feature for all categories\n",
        "# helps in observing the data distribution\n",
        "for i in ['sepal.length','sepal.width', 'petal.length', 'petal.width']:\n",
        "  plt.figure(figsize = (15,10))\n",
        "  sns.histplot(data=df, x=i, multiple=\"stack\", hue=\"variety\", kde=True)\n",
        "  plt.show()"
      ],
      "metadata": {
        "id": "6ckC4TRFo1_3",
        "colab": {
          "base_uri": "https://localhost:8080/",
          "height": 1000
        },
        "outputId": "e294419e-c74e-42c8-bb8a-8bf817f1936d"
      },
      "execution_count": 7,
      "outputs": [
        {
          "output_type": "display_data",
          "data": {
            "text/plain": [
              "<Figure size 1080x720 with 1 Axes>"
            ],
            "image/png": "[encoded data removed]"
          },
          "metadata": {
            "needs_background": "light"
          }
        },
        {
          "output_type": "display_data",
          "data": {
            "text/plain": [
              "<Figure size 1080x720 with 1 Axes>"
            ],
            "image/png": "[encoded data removed]"
          },
          "metadata": {
            "needs_background": "light"
          }
        },
        {
          "output_type": "display_data",
          "data": {
            "text/plain": [
              "<Figure size 1080x720 with 1 Axes>"
            ],
            "image/png": "[encoded data removed]"
          },
          "metadata": {
            "needs_background": "light"
          }
        },
        {
          "output_type": "display_data",
          "data": {
            "text/plain": [
              "<Figure size 1080x720 with 1 Axes>"
            ],
            "image/png": "[encoded data removed]"
          },
          "metadata": {
            "needs_background": "light"
          }
        }
      ]
    },
    {
      "cell_type": "markdown",
      "source": [
        "#### Count of samples for each category"
      ],
      "metadata": {
        "id": "mBkLcNS_j-ks"
      }
    },
    {
      "cell_type": "code",
      "source": [
        "plt.figure(figsize=(12,6))\n",
        "sns.countplot(data=df, x='variety')"
      ],
      "metadata": {
        "colab": {
          "base_uri": "https://localhost:8080/",
          "height": 406
        },
        "id": "5iDT8PKSjtKB",
        "outputId": "9bfe52d5-8e6e-4cfe-e623-bdf1e7cb388a"
      },
      "execution_count": 8,
      "outputs": [
        {
          "output_type": "execute_result",
          "data": {
            "text/plain": [
              "<matplotlib.axes._subplots.AxesSubplot at 0x7fc2582d1fa0>"
            ]
          },
          "metadata": {},
          "execution_count": 8
        },
        {
          "output_type": "display_data",
          "data": {
            "text/plain": [
              "<Figure size 864x432 with 1 Axes>"
            ],
            "image/png": "[encoded data removed]"
          },
          "metadata": {
            "needs_background": "light"
          }
        }
      ]
    },
    {
      "cell_type": "markdown",
      "source": [
        "From above figure it is clear that we do not have any missing values\n",
        "<br>\n",
        "Also, we have equal counts for all three varieties\n"
      ],
      "metadata": {
        "id": "x-dnP8hx02iQ"
      }
    },
    {
      "cell_type": "markdown",
      "source": [
        "#### Pairwise relationships"
      ],
      "metadata": {
        "id": "yLysV3Nz9ikk"
      }
    },
    {
      "cell_type": "code",
      "source": [
        "plt.figure(figsize=(15,10))\n",
        "sns.pairplot(data=df, hue='variety')"
      ],
      "metadata": {
        "colab": {
          "base_uri": "https://localhost:8080/",
          "height": 763
        },
        "id": "lUi425Uq9gve",
        "outputId": "aa2958ba-ebd9-47ee-aa04-3437d16e8b1e"
      },
      "execution_count": 9,
      "outputs": [
        {
          "output_type": "execute_result",
          "data": {
            "text/plain": [
              "<seaborn.axisgrid.PairGrid at 0x7fc2581858e0>"
            ]
          },
          "metadata": {},
          "execution_count": 9
        },
        {
          "output_type": "display_data",
          "data": {
            "text/plain": [
              "<Figure size 1080x720 with 0 Axes>"
            ]
          },
          "metadata": {}
        },
        {
          "output_type": "display_data",
          "data": {
            "text/plain": [
              "<Figure size 805x720 with 20 Axes>"
            ],
            "image/png": "[encoded data removed]"
          },
          "metadata": {
            "needs_background": "light"
          }
        }
      ]
    },
    {
      "cell_type": "markdown",
      "source": [
        "In the above figure it is observed that:\n",
        "\n",
        "\n",
        "1.   `petal.length` or `petal.width` can be used to classify the setosa uniquely\n",
        "2.   `petal width/length` when plotted against `sepal width/length` it can help classify `Setosa` from `Versicolor/Virginica`\n",
        "\n",
        "\n"
      ],
      "metadata": {
        "id": "Zp8ZaG4H_HLe"
      }
    },
    {
      "cell_type": "markdown",
      "source": [
        "#### Correlation between features"
      ],
      "metadata": {
        "id": "_sSNFrYP1qzh"
      }
    },
    {
      "cell_type": "code",
      "source": [
        "plt.figure(figsize=(20,10))\n",
        "sns.heatmap(df.corr(), cmap='Blues_r')"
      ],
      "metadata": {
        "colab": {
          "base_uri": "https://localhost:8080/",
          "height": 614
        },
        "id": "qezKzr6l1wij",
        "outputId": "06894e1d-89c5-45d3-9e71-d71303093cef"
      },
      "execution_count": 10,
      "outputs": [
        {
          "output_type": "execute_result",
          "data": {
            "text/plain": [
              "<matplotlib.axes._subplots.AxesSubplot at 0x7fc25815f520>"
            ]
          },
          "metadata": {},
          "execution_count": 10
        },
        {
          "output_type": "display_data",
          "data": {
            "text/plain": [
              "<Figure size 1440x720 with 2 Axes>"
            ],
            "image/png": "[encoded data removed]"
          },
          "metadata": {
            "needs_background": "light"
          }
        }
      ]
    },
    {
      "cell_type": "markdown",
      "source": [
        " Based on above figure we can deduce that:\n",
        "\n",
        "\n",
        "\n",
        "1.   `sepal.length` has positive correlation with `petal.length` and `petal.width` and negative correlation with `sepal.width`. \n",
        "2.   `sepal.width` has negative correlation with all other features.\n",
        "3. `petal.length` has negative correlation with `sepal.width` while having postive correlation with other features. \n",
        "4. `petal.width` has strong negative correlation with `sepal.width` while having positive correlation with other features \n",
        "\n"
      ],
      "metadata": {
        "id": "Q7_mQffR2fpD"
      }
    },
    {
      "cell_type": "markdown",
      "source": [
        "# Label Encoding "
      ],
      "metadata": {
        "id": "561rZVclwB3F"
      }
    },
    {
      "cell_type": "code",
      "source": [
        "category_map = {'Setosa': 0, 'Versicolor': 1, 'Virginica': 2}\n",
        "df['variety'] = df['variety'].map(category_map)"
      ],
      "metadata": {
        "id": "klyI6z5rET3J"
      },
      "execution_count": 11,
      "outputs": []
    },
    {
      "cell_type": "code",
      "source": [
        "df.head(10)"
      ],
      "metadata": {
        "colab": {
          "base_uri": "https://localhost:8080/",
          "height": 363
        },
        "id": "jLFagOce0NVw",
        "outputId": "1accb874-6e23-4141-bb98-88466e9304ba"
      },
      "execution_count": 12,
      "outputs": [
        {
          "output_type": "execute_result",
          "data": {
            "text/plain": [
              "   sepal.length  sepal.width  petal.length  petal.width  variety\n",
              "0           5.1          3.5           1.4          0.2        0\n",
              "1           4.9          3.0           1.4          0.2        0\n",
              "2           4.7          3.2           1.3          0.2        0\n",
              "3           4.6          3.1           1.5          0.2        0\n",
              "4           5.0          3.6           1.4          0.2        0\n",
              "5           5.4          3.9           1.7          0.4        0\n",
              "6           4.6          3.4           1.4          0.3        0\n",
              "7           5.0          3.4           1.5          0.2        0\n",
              "8           4.4          2.9           1.4          0.2        0\n",
              "9           4.9          3.1           1.5          0.1        0"
            ],
            "text/html": [
              "\n",
              "  <div id=\"df-a962b761-5c18-4fc2-a432-dffb5c43f9a4\">\n",
              "    <div class=\"colab-df-container\">\n",
              "      <div>\n",
              "<style scoped>\n",
              "    .dataframe tbody tr th:only-of-type {\n",
              "        vertical-align: middle;\n",
              "    }\n",
              "\n",
              "    .dataframe tbody tr th {\n",
              "        vertical-align: top;\n",
              "    }\n",
              "\n",
              "    .dataframe thead th {\n",
              "        text-align: right;\n",
              "    }\n",
              "</style>\n",
              "<table border=\"1\" class=\"dataframe\">\n",
              "  <thead>\n",
              "    <tr style=\"text-align: right;\">\n",
              "      <th></th>\n",
              "      <th>sepal.length</th>\n",
              "      <th>sepal.width</th>\n",
              "      <th>petal.length</th>\n",
              "      <th>petal.width</th>\n",
              "      <th>variety</th>\n",
              "    </tr>\n",
              "  </thead>\n",
              "  <tbody>\n",
              "    <tr>\n",
              "      <th>0</th>\n",
              "      <td>5.1</td>\n",
              "      <td>3.5</td>\n",
              "      <td>1.4</td>\n",
              "      <td>0.2</td>\n",
              "      <td>0</td>\n",
              "    </tr>\n",
              "    <tr>\n",
              "      <th>1</th>\n",
              "      <td>4.9</td>\n",
              "      <td>3.0</td>\n",
              "      <td>1.4</td>\n",
              "      <td>0.2</td>\n",
              "      <td>0</td>\n",
              "    </tr>\n",
              "    <tr>\n",
              "      <th>2</th>\n",
              "      <td>4.7</td>\n",
              "      <td>3.2</td>\n",
              "      <td>1.3</td>\n",
              "      <td>0.2</td>\n",
              "      <td>0</td>\n",
              "    </tr>\n",
              "    <tr>\n",
              "      <th>3</th>\n",
              "      <td>4.6</td>\n",
              "      <td>3.1</td>\n",
              "      <td>1.5</td>\n",
              "      <td>0.2</td>\n",
              "      <td>0</td>\n",
              "    </tr>\n",
              "    <tr>\n",
              "      <th>4</th>\n",
              "      <td>5.0</td>\n",
              "      <td>3.6</td>\n",
              "      <td>1.4</td>\n",
              "      <td>0.2</td>\n",
              "      <td>0</td>\n",
              "    </tr>\n",
              "    <tr>\n",
              "      <th>5</th>\n",
              "      <td>5.4</td>\n",
              "      <td>3.9</td>\n",
              "      <td>1.7</td>\n",
              "      <td>0.4</td>\n",
              "      <td>0</td>\n",
              "    </tr>\n",
              "    <tr>\n",
              "      <th>6</th>\n",
              "      <td>4.6</td>\n",
              "      <td>3.4</td>\n",
              "      <td>1.4</td>\n",
              "      <td>0.3</td>\n",
              "      <td>0</td>\n",
              "    </tr>\n",
              "    <tr>\n",
              "      <th>7</th>\n",
              "      <td>5.0</td>\n",
              "      <td>3.4</td>\n",
              "      <td>1.5</td>\n",
              "      <td>0.2</td>\n",
              "      <td>0</td>\n",
              "    </tr>\n",
              "    <tr>\n",
              "      <th>8</th>\n",
              "      <td>4.4</td>\n",
              "      <td>2.9</td>\n",
              "      <td>1.4</td>\n",
              "      <td>0.2</td>\n",
              "      <td>0</td>\n",
              "    </tr>\n",
              "    <tr>\n",
              "      <th>9</th>\n",
              "      <td>4.9</td>\n",
              "      <td>3.1</td>\n",
              "      <td>1.5</td>\n",
              "      <td>0.1</td>\n",
              "      <td>0</td>\n",
              "    </tr>\n",
              "  </tbody>\n",
              "</table>\n",
              "</div>\n",
              "      <button class=\"colab-df-convert\" onclick=\"convertToInteractive('df-a962b761-5c18-4fc2-a432-dffb5c43f9a4')\"\n",
              "              title=\"Convert this dataframe to an interactive table.\"\n",
              "              style=\"display:none;\">\n",
              "        \n",
              "  <svg xmlns=\"http://www.w3.org/2000/svg\" height=\"24px\"viewBox=\"0 0 24 24\"\n",
              "       width=\"24px\">\n",
              "    <path d=\"M0 0h24v24H0V0z\" fill=\"none\"/>\n",
              "    <path d=\"M18.56 5.44l.94 2.06.94-2.06 2.06-.94-2.06-.94-.94-2.06-.94 2.06-2.06.94zm-11 1L8.5 8.5l.94-2.06 2.06-.94-2.06-.94L8.5 2.5l-.94 2.06-2.06.94zm10 10l.94 2.06.94-2.06 2.06-.94-2.06-.94-.94-2.06-.94 2.06-2.06.94z\"/><path d=\"M17.41 7.96l-1.37-1.37c-.4-.4-.92-.59-1.43-.59-.52 0-1.04.2-1.43.59L10.3 9.45l-7.72 7.72c-.78.78-.78 2.05 0 2.83L4 21.41c.39.39.9.59 1.41.59.51 0 1.02-.2 1.41-.59l7.78-7.78 2.81-2.81c.8-.78.8-2.07 0-2.86zM5.41 20L4 18.59l7.72-7.72 1.47 1.35L5.41 20z\"/>\n",
              "  </svg>\n",
              "      </button>\n",
              "      \n",
              "  <style>\n",
              "    .colab-df-container {\n",
              "      display:flex;\n",
              "      flex-wrap:wrap;\n",
              "      gap: 12px;\n",
              "    }\n",
              "\n",
              "    .colab-df-convert {\n",
              "      background-color: #E8F0FE;\n",
              "      border: none;\n",
              "      border-radius: 50%;\n",
              "      cursor: pointer;\n",
              "      display: none;\n",
              "      fill: #1967D2;\n",
              "      height: 32px;\n",
              "      padding: 0 0 0 0;\n",
              "      width: 32px;\n",
              "    }\n",
              "\n",
              "    .colab-df-convert:hover {\n",
              "      background-color: #E2EBFA;\n",
              "      box-shadow: 0px 1px 2px rgba(60, 64, 67, 0.3), 0px 1px 3px 1px rgba(60, 64, 67, 0.15);\n",
              "      fill: #174EA6;\n",
              "    }\n",
              "\n",
              "    [theme=dark] .colab-df-convert {\n",
              "      background-color: #3B4455;\n",
              "      fill: #D2E3FC;\n",
              "    }\n",
              "\n",
              "    [theme=dark] .colab-df-convert:hover {\n",
              "      background-color: #434B5C;\n",
              "      box-shadow: 0px 1px 3px 1px rgba(0, 0, 0, 0.15);\n",
              "      filter: drop-shadow(0px 1px 2px rgba(0, 0, 0, 0.3));\n",
              "      fill: #FFFFFF;\n",
              "    }\n",
              "  </style>\n",
              "\n",
              "      <script>\n",
              "        const buttonEl =\n",
              "          document.querySelector('#df-a962b761-5c18-4fc2-a432-dffb5c43f9a4 button.colab-df-convert');\n",
              "        buttonEl.style.display =\n",
              "          google.colab.kernel.accessAllowed ? 'block' : 'none';\n",
              "\n",
              "        async function convertToInteractive(key) {\n",
              "          const element = document.querySelector('#df-a962b761-5c18-4fc2-a432-dffb5c43f9a4');\n",
              "          const dataTable =\n",
              "            await google.colab.kernel.invokeFunction('convertToInteractive',\n",
              "                                                     [key], {});\n",
              "          if (!dataTable) return;\n",
              "\n",
              "          const docLinkHtml = 'Like what you see? Visit the ' +\n",
              "            '<a target=\"_blank\" href=https://colab.research.google.com/notebooks/data_table.ipynb>data table notebook</a>'\n",
              "            + ' to learn more about interactive tables.';\n",
              "          element.innerHTML = '';\n",
              "          dataTable['output_type'] = 'display_data';\n",
              "          await google.colab.output.renderOutput(dataTable, element);\n",
              "          const docLink = document.createElement('div');\n",
              "          docLink.innerHTML = docLinkHtml;\n",
              "          element.appendChild(docLink);\n",
              "        }\n",
              "      </script>\n",
              "    </div>\n",
              "  </div>\n",
              "  "
            ]
          },
          "metadata": {},
          "execution_count": 12
        }
      ]
    },
    {
      "cell_type": "code",
      "source": [
        "df[51:60]"
      ],
      "metadata": {
        "colab": {
          "base_uri": "https://localhost:8080/",
          "height": 331
        },
        "id": "YvdCN_7M0RFh",
        "outputId": "aba82a88-8b4b-4ef9-b8de-339edd438ba7"
      },
      "execution_count": 13,
      "outputs": [
        {
          "output_type": "execute_result",
          "data": {
            "text/plain": [
              "    sepal.length  sepal.width  petal.length  petal.width  variety\n",
              "51           6.4          3.2           4.5          1.5        1\n",
              "52           6.9          3.1           4.9          1.5        1\n",
              "53           5.5          2.3           4.0          1.3        1\n",
              "54           6.5          2.8           4.6          1.5        1\n",
              "55           5.7          2.8           4.5          1.3        1\n",
              "56           6.3          3.3           4.7          1.6        1\n",
              "57           4.9          2.4           3.3          1.0        1\n",
              "58           6.6          2.9           4.6          1.3        1\n",
              "59           5.2          2.7           3.9          1.4        1"
            ],
            "text/html": [
              "\n",
              "  <div id=\"df-cc819926-f1d6-453c-b988-2a0b6d55ad21\">\n",
              "    <div class=\"colab-df-container\">\n",
              "      <div>\n",
              "<style scoped>\n",
              "    .dataframe tbody tr th:only-of-type {\n",
              "        vertical-align: middle;\n",
              "    }\n",
              "\n",
              "    .dataframe tbody tr th {\n",
              "        vertical-align: top;\n",
              "    }\n",
              "\n",
              "    .dataframe thead th {\n",
              "        text-align: right;\n",
              "    }\n",
              "</style>\n",
              "<table border=\"1\" class=\"dataframe\">\n",
              "  <thead>\n",
              "    <tr style=\"text-align: right;\">\n",
              "      <th></th>\n",
              "      <th>sepal.length</th>\n",
              "      <th>sepal.width</th>\n",
              "      <th>petal.length</th>\n",
              "      <th>petal.width</th>\n",
              "      <th>variety</th>\n",
              "    </tr>\n",
              "  </thead>\n",
              "  <tbody>\n",
              "    <tr>\n",
              "      <th>51</th>\n",
              "      <td>6.4</td>\n",
              "      <td>3.2</td>\n",
              "      <td>4.5</td>\n",
              "      <td>1.5</td>\n",
              "      <td>1</td>\n",
              "    </tr>\n",
              "    <tr>\n",
              "      <th>52</th>\n",
              "      <td>6.9</td>\n",
              "      <td>3.1</td>\n",
              "      <td>4.9</td>\n",
              "      <td>1.5</td>\n",
              "      <td>1</td>\n",
              "    </tr>\n",
              "    <tr>\n",
              "      <th>53</th>\n",
              "      <td>5.5</td>\n",
              "      <td>2.3</td>\n",
              "      <td>4.0</td>\n",
              "      <td>1.3</td>\n",
              "      <td>1</td>\n",
              "    </tr>\n",
              "    <tr>\n",
              "      <th>54</th>\n",
              "      <td>6.5</td>\n",
              "      <td>2.8</td>\n",
              "      <td>4.6</td>\n",
              "      <td>1.5</td>\n",
              "      <td>1</td>\n",
              "    </tr>\n",
              "    <tr>\n",
              "      <th>55</th>\n",
              "      <td>5.7</td>\n",
              "      <td>2.8</td>\n",
              "      <td>4.5</td>\n",
              "      <td>1.3</td>\n",
              "      <td>1</td>\n",
              "    </tr>\n",
              "    <tr>\n",
              "      <th>56</th>\n",
              "      <td>6.3</td>\n",
              "      <td>3.3</td>\n",
              "      <td>4.7</td>\n",
              "      <td>1.6</td>\n",
              "      <td>1</td>\n",
              "    </tr>\n",
              "    <tr>\n",
              "      <th>57</th>\n",
              "      <td>4.9</td>\n",
              "      <td>2.4</td>\n",
              "      <td>3.3</td>\n",
              "      <td>1.0</td>\n",
              "      <td>1</td>\n",
              "    </tr>\n",
              "    <tr>\n",
              "      <th>58</th>\n",
              "      <td>6.6</td>\n",
              "      <td>2.9</td>\n",
              "      <td>4.6</td>\n",
              "      <td>1.3</td>\n",
              "      <td>1</td>\n",
              "    </tr>\n",
              "    <tr>\n",
              "      <th>59</th>\n",
              "      <td>5.2</td>\n",
              "      <td>2.7</td>\n",
              "      <td>3.9</td>\n",
              "      <td>1.4</td>\n",
              "      <td>1</td>\n",
              "    </tr>\n",
              "  </tbody>\n",
              "</table>\n",
              "</div>\n",
              "      <button class=\"colab-df-convert\" onclick=\"convertToInteractive('df-cc819926-f1d6-453c-b988-2a0b6d55ad21')\"\n",
              "              title=\"Convert this dataframe to an interactive table.\"\n",
              "              style=\"display:none;\">\n",
              "        \n",
              "  <svg xmlns=\"http://www.w3.org/2000/svg\" height=\"24px\"viewBox=\"0 0 24 24\"\n",
              "       width=\"24px\">\n",
              "    <path d=\"M0 0h24v24H0V0z\" fill=\"none\"/>\n",
              "    <path d=\"M18.56 5.44l.94 2.06.94-2.06 2.06-.94-2.06-.94-.94-2.06-.94 2.06-2.06.94zm-11 1L8.5 8.5l.94-2.06 2.06-.94-2.06-.94L8.5 2.5l-.94 2.06-2.06.94zm10 10l.94 2.06.94-2.06 2.06-.94-2.06-.94-.94-2.06-.94 2.06-2.06.94z\"/><path d=\"M17.41 7.96l-1.37-1.37c-.4-.4-.92-.59-1.43-.59-.52 0-1.04.2-1.43.59L10.3 9.45l-7.72 7.72c-.78.78-.78 2.05 0 2.83L4 21.41c.39.39.9.59 1.41.59.51 0 1.02-.2 1.41-.59l7.78-7.78 2.81-2.81c.8-.78.8-2.07 0-2.86zM5.41 20L4 18.59l7.72-7.72 1.47 1.35L5.41 20z\"/>\n",
              "  </svg>\n",
              "      </button>\n",
              "      \n",
              "  <style>\n",
              "    .colab-df-container {\n",
              "      display:flex;\n",
              "      flex-wrap:wrap;\n",
              "      gap: 12px;\n",
              "    }\n",
              "\n",
              "    .colab-df-convert {\n",
              "      background-color: #E8F0FE;\n",
              "      border: none;\n",
              "      border-radius: 50%;\n",
              "      cursor: pointer;\n",
              "      display: none;\n",
              "      fill: #1967D2;\n",
              "      height: 32px;\n",
              "      padding: 0 0 0 0;\n",
              "      width: 32px;\n",
              "    }\n",
              "\n",
              "    .colab-df-convert:hover {\n",
              "      background-color: #E2EBFA;\n",
              "      box-shadow: 0px 1px 2px rgba(60, 64, 67, 0.3), 0px 1px 3px 1px rgba(60, 64, 67, 0.15);\n",
              "      fill: #174EA6;\n",
              "    }\n",
              "\n",
              "    [theme=dark] .colab-df-convert {\n",
              "      background-color: #3B4455;\n",
              "      fill: #D2E3FC;\n",
              "    }\n",
              "\n",
              "    [theme=dark] .colab-df-convert:hover {\n",
              "      background-color: #434B5C;\n",
              "      box-shadow: 0px 1px 3px 1px rgba(0, 0, 0, 0.15);\n",
              "      filter: drop-shadow(0px 1px 2px rgba(0, 0, 0, 0.3));\n",
              "      fill: #FFFFFF;\n",
              "    }\n",
              "  </style>\n",
              "\n",
              "      <script>\n",
              "        const buttonEl =\n",
              "          document.querySelector('#df-cc819926-f1d6-453c-b988-2a0b6d55ad21 button.colab-df-convert');\n",
              "        buttonEl.style.display =\n",
              "          google.colab.kernel.accessAllowed ? 'block' : 'none';\n",
              "\n",
              "        async function convertToInteractive(key) {\n",
              "          const element = document.querySelector('#df-cc819926-f1d6-453c-b988-2a0b6d55ad21');\n",
              "          const dataTable =\n",
              "            await google.colab.kernel.invokeFunction('convertToInteractive',\n",
              "                                                     [key], {});\n",
              "          if (!dataTable) return;\n",
              "\n",
              "          const docLinkHtml = 'Like what you see? Visit the ' +\n",
              "            '<a target=\"_blank\" href=https://colab.research.google.com/notebooks/data_table.ipynb>data table notebook</a>'\n",
              "            + ' to learn more about interactive tables.';\n",
              "          element.innerHTML = '';\n",
              "          dataTable['output_type'] = 'display_data';\n",
              "          await google.colab.output.renderOutput(dataTable, element);\n",
              "          const docLink = document.createElement('div');\n",
              "          docLink.innerHTML = docLinkHtml;\n",
              "          element.appendChild(docLink);\n",
              "        }\n",
              "      </script>\n",
              "    </div>\n",
              "  </div>\n",
              "  "
            ]
          },
          "metadata": {},
          "execution_count": 13
        }
      ]
    },
    {
      "cell_type": "code",
      "source": [
        "df.tail(10)"
      ],
      "metadata": {
        "colab": {
          "base_uri": "https://localhost:8080/",
          "height": 363
        },
        "id": "jzf_XqlI0O8v",
        "outputId": "d5c333ec-a399-4f00-d13a-ee68e4b35e66"
      },
      "execution_count": 14,
      "outputs": [
        {
          "output_type": "execute_result",
          "data": {
            "text/plain": [
              "     sepal.length  sepal.width  petal.length  petal.width  variety\n",
              "140           6.7          3.1           5.6          2.4        2\n",
              "141           6.9          3.1           5.1          2.3        2\n",
              "142           5.8          2.7           5.1          1.9        2\n",
              "143           6.8          3.2           5.9          2.3        2\n",
              "144           6.7          3.3           5.7          2.5        2\n",
              "145           6.7          3.0           5.2          2.3        2\n",
              "146           6.3          2.5           5.0          1.9        2\n",
              "147           6.5          3.0           5.2          2.0        2\n",
              "148           6.2          3.4           5.4          2.3        2\n",
              "149           5.9          3.0           5.1          1.8        2"
            ],
            "text/html": [
              "\n",
              "  <div id=\"df-4d70f0ca-c557-450d-8434-90a8841d21d5\">\n",
              "    <div class=\"colab-df-container\">\n",
              "      <div>\n",
              "<style scoped>\n",
              "    .dataframe tbody tr th:only-of-type {\n",
              "        vertical-align: middle;\n",
              "    }\n",
              "\n",
              "    .dataframe tbody tr th {\n",
              "        vertical-align: top;\n",
              "    }\n",
              "\n",
              "    .dataframe thead th {\n",
              "        text-align: right;\n",
              "    }\n",
              "</style>\n",
              "<table border=\"1\" class=\"dataframe\">\n",
              "  <thead>\n",
              "    <tr style=\"text-align: right;\">\n",
              "      <th></th>\n",
              "      <th>sepal.length</th>\n",
              "      <th>sepal.width</th>\n",
              "      <th>petal.length</th>\n",
              "      <th>petal.width</th>\n",
              "      <th>variety</th>\n",
              "    </tr>\n",
              "  </thead>\n",
              "  <tbody>\n",
              "    <tr>\n",
              "      <th>140</th>\n",
              "      <td>6.7</td>\n",
              "      <td>3.1</td>\n",
              "      <td>5.6</td>\n",
              "      <td>2.4</td>\n",
              "      <td>2</td>\n",
              "    </tr>\n",
              "    <tr>\n",
              "      <th>141</th>\n",
              "      <td>6.9</td>\n",
              "      <td>3.1</td>\n",
              "      <td>5.1</td>\n",
              "      <td>2.3</td>\n",
              "      <td>2</td>\n",
              "    </tr>\n",
              "    <tr>\n",
              "      <th>142</th>\n",
              "      <td>5.8</td>\n",
              "      <td>2.7</td>\n",
              "      <td>5.1</td>\n",
              "      <td>1.9</td>\n",
              "      <td>2</td>\n",
              "    </tr>\n",
              "    <tr>\n",
              "      <th>143</th>\n",
              "      <td>6.8</td>\n",
              "      <td>3.2</td>\n",
              "      <td>5.9</td>\n",
              "      <td>2.3</td>\n",
              "      <td>2</td>\n",
              "    </tr>\n",
              "    <tr>\n",
              "      <th>144</th>\n",
              "      <td>6.7</td>\n",
              "      <td>3.3</td>\n",
              "      <td>5.7</td>\n",
              "      <td>2.5</td>\n",
              "      <td>2</td>\n",
              "    </tr>\n",
              "    <tr>\n",
              "      <th>145</th>\n",
              "      <td>6.7</td>\n",
              "      <td>3.0</td>\n",
              "      <td>5.2</td>\n",
              "      <td>2.3</td>\n",
              "      <td>2</td>\n",
              "    </tr>\n",
              "    <tr>\n",
              "      <th>146</th>\n",
              "      <td>6.3</td>\n",
              "      <td>2.5</td>\n",
              "      <td>5.0</td>\n",
              "      <td>1.9</td>\n",
              "      <td>2</td>\n",
              "    </tr>\n",
              "    <tr>\n",
              "      <th>147</th>\n",
              "      <td>6.5</td>\n",
              "      <td>3.0</td>\n",
              "      <td>5.2</td>\n",
              "      <td>2.0</td>\n",
              "      <td>2</td>\n",
              "    </tr>\n",
              "    <tr>\n",
              "      <th>148</th>\n",
              "      <td>6.2</td>\n",
              "      <td>3.4</td>\n",
              "      <td>5.4</td>\n",
              "      <td>2.3</td>\n",
              "      <td>2</td>\n",
              "    </tr>\n",
              "    <tr>\n",
              "      <th>149</th>\n",
              "      <td>5.9</td>\n",
              "      <td>3.0</td>\n",
              "      <td>5.1</td>\n",
              "      <td>1.8</td>\n",
              "      <td>2</td>\n",
              "    </tr>\n",
              "  </tbody>\n",
              "</table>\n",
              "</div>\n",
              "      <button class=\"colab-df-convert\" onclick=\"convertToInteractive('df-4d70f0ca-c557-450d-8434-90a8841d21d5')\"\n",
              "              title=\"Convert this dataframe to an interactive table.\"\n",
              "              style=\"display:none;\">\n",
              "        \n",
              "  <svg xmlns=\"http://www.w3.org/2000/svg\" height=\"24px\"viewBox=\"0 0 24 24\"\n",
              "       width=\"24px\">\n",
              "    <path d=\"M0 0h24v24H0V0z\" fill=\"none\"/>\n",
              "    <path d=\"M18.56 5.44l.94 2.06.94-2.06 2.06-.94-2.06-.94-.94-2.06-.94 2.06-2.06.94zm-11 1L8.5 8.5l.94-2.06 2.06-.94-2.06-.94L8.5 2.5l-.94 2.06-2.06.94zm10 10l.94 2.06.94-2.06 2.06-.94-2.06-.94-.94-2.06-.94 2.06-2.06.94z\"/><path d=\"M17.41 7.96l-1.37-1.37c-.4-.4-.92-.59-1.43-.59-.52 0-1.04.2-1.43.59L10.3 9.45l-7.72 7.72c-.78.78-.78 2.05 0 2.83L4 21.41c.39.39.9.59 1.41.59.51 0 1.02-.2 1.41-.59l7.78-7.78 2.81-2.81c.8-.78.8-2.07 0-2.86zM5.41 20L4 18.59l7.72-7.72 1.47 1.35L5.41 20z\"/>\n",
              "  </svg>\n",
              "      </button>\n",
              "      \n",
              "  <style>\n",
              "    .colab-df-container {\n",
              "      display:flex;\n",
              "      flex-wrap:wrap;\n",
              "      gap: 12px;\n",
              "    }\n",
              "\n",
              "    .colab-df-convert {\n",
              "      background-color: #E8F0FE;\n",
              "      border: none;\n",
              "      border-radius: 50%;\n",
              "      cursor: pointer;\n",
              "      display: none;\n",
              "      fill: #1967D2;\n",
              "      height: 32px;\n",
              "      padding: 0 0 0 0;\n",
              "      width: 32px;\n",
              "    }\n",
              "\n",
              "    .colab-df-convert:hover {\n",
              "      background-color: #E2EBFA;\n",
              "      box-shadow: 0px 1px 2px rgba(60, 64, 67, 0.3), 0px 1px 3px 1px rgba(60, 64, 67, 0.15);\n",
              "      fill: #174EA6;\n",
              "    }\n",
              "\n",
              "    [theme=dark] .colab-df-convert {\n",
              "      background-color: #3B4455;\n",
              "      fill: #D2E3FC;\n",
              "    }\n",
              "\n",
              "    [theme=dark] .colab-df-convert:hover {\n",
              "      background-color: #434B5C;\n",
              "      box-shadow: 0px 1px 3px 1px rgba(0, 0, 0, 0.15);\n",
              "      filter: drop-shadow(0px 1px 2px rgba(0, 0, 0, 0.3));\n",
              "      fill: #FFFFFF;\n",
              "    }\n",
              "  </style>\n",
              "\n",
              "      <script>\n",
              "        const buttonEl =\n",
              "          document.querySelector('#df-4d70f0ca-c557-450d-8434-90a8841d21d5 button.colab-df-convert');\n",
              "        buttonEl.style.display =\n",
              "          google.colab.kernel.accessAllowed ? 'block' : 'none';\n",
              "\n",
              "        async function convertToInteractive(key) {\n",
              "          const element = document.querySelector('#df-4d70f0ca-c557-450d-8434-90a8841d21d5');\n",
              "          const dataTable =\n",
              "            await google.colab.kernel.invokeFunction('convertToInteractive',\n",
              "                                                     [key], {});\n",
              "          if (!dataTable) return;\n",
              "\n",
              "          const docLinkHtml = 'Like what you see? Visit the ' +\n",
              "            '<a target=\"_blank\" href=https://colab.research.google.com/notebooks/data_table.ipynb>data table notebook</a>'\n",
              "            + ' to learn more about interactive tables.';\n",
              "          element.innerHTML = '';\n",
              "          dataTable['output_type'] = 'display_data';\n",
              "          await google.colab.output.renderOutput(dataTable, element);\n",
              "          const docLink = document.createElement('div');\n",
              "          docLink.innerHTML = docLinkHtml;\n",
              "          element.appendChild(docLink);\n",
              "        }\n",
              "      </script>\n",
              "    </div>\n",
              "  </div>\n",
              "  "
            ]
          },
          "metadata": {},
          "execution_count": 14
        }
      ]
    },
    {
      "cell_type": "markdown",
      "source": [
        "# 80:10:10 split\n",
        "\n",
        "> Contains the following:\n",
        "1. Train, validation, test splitting\n",
        "2. Five fold cross validation\n",
        "3. Hyperparameter tuning, \n",
        "4. Model fitting \n",
        "5. Metrics calculation of models\n",
        "\n"
      ],
      "metadata": {
        "id": "OGVn1Hw9wN0M"
      }
    },
    {
      "cell_type": "markdown",
      "source": [
        "## Splitting Data"
      ],
      "metadata": {
        "id": "wKFJwI2awWEc"
      }
    },
    {
      "cell_type": "code",
      "source": [
        "# split train, validation and test into 80:10:10 ratio\n",
        "features = df.drop('variety', axis=1)\n",
        "target_label = df['variety']\n",
        "x_train, x_test, y_train, y_test = train_test_split(features, target_label, test_size=0.2, random_state=42)\n",
        "x_test, x_val, y_test, y_val = train_test_split(x_test, y_test, test_size=0.5, random_state=42)\n",
        "print('training data samples:', len(y_train), f\"({round(len(y_train)/len(target_label), 2) * 100}%)\"  )\n",
        "print('validation data samples:',len(y_val), f\"({round(len(y_val)/len(target_label), 2) * 100}%)\")\n",
        "print('test data samples:', len(y_test), f\"({round(len(y_test)/len(target_label), 2) * 100})\")"
      ],
      "metadata": {
        "colab": {
          "base_uri": "https://localhost:8080/"
        },
        "id": "AD5WOtgRFJKl",
        "outputId": "0690cc2b-4623-4b75-cfdd-f5ddf89c1b82"
      },
      "execution_count": 15,
      "outputs": [
        {
          "output_type": "stream",
          "name": "stdout",
          "text": [
            "training data samples: 120 (80.0%)\n",
            "validation data samples: 15 (10.0%)\n",
            "test data samples: 15 (10.0)\n"
          ]
        }
      ]
    },
    {
      "cell_type": "markdown",
      "source": [
        "## Cross validation score"
      ],
      "metadata": {
        "id": "B4PcJirPt6Ug"
      }
    },
    {
      "cell_type": "code",
      "source": [
        "rf =  RandomForestClassifier()\n",
        "print(rf, cross_val_score(rf, x_train, y_train, cv=5))"
      ],
      "metadata": {
        "colab": {
          "base_uri": "https://localhost:8080/"
        },
        "id": "MArM95jYvTwA",
        "outputId": "82584113-6c51-492d-c366-6d914c48594f"
      },
      "execution_count": 16,
      "outputs": [
        {
          "output_type": "stream",
          "name": "stdout",
          "text": [
            "RandomForestClassifier() [0.95833333 0.95833333 0.875      1.         0.95833333]\n"
          ]
        }
      ]
    },
    {
      "cell_type": "code",
      "source": [
        "lr =  LogisticRegression(max_iter=10000)\n",
        "print(lr, cross_val_score(lr, x_train, y_train, cv=5))"
      ],
      "metadata": {
        "colab": {
          "base_uri": "https://localhost:8080/"
        },
        "id": "aU4tYjcnvAif",
        "outputId": "827293ab-2c83-42b4-a3ad-e357e68955fe"
      },
      "execution_count": 17,
      "outputs": [
        {
          "output_type": "stream",
          "name": "stdout",
          "text": [
            "LogisticRegression(max_iter=10000) [1.         1.         0.875      1.         0.95833333]\n"
          ]
        }
      ]
    },
    {
      "cell_type": "code",
      "source": [
        "mlp =  MLPClassifier(max_iter=1000)\n",
        "print(mlp, cross_val_score(mlp, x_train, y_train, cv=5))"
      ],
      "metadata": {
        "colab": {
          "base_uri": "https://localhost:8080/"
        },
        "id": "a7q-4Ps1tmlw",
        "outputId": "1f98e76f-c0c6-49d1-9353-ff230db732d1"
      },
      "execution_count": 18,
      "outputs": [
        {
          "output_type": "stream",
          "name": "stdout",
          "text": [
            "MLPClassifier(max_iter=1000) [0.95833333 1.         0.875      1.         1.        ]\n"
          ]
        }
      ]
    },
    {
      "cell_type": "markdown",
      "source": [
        "## Hyperparameter tuning"
      ],
      "metadata": {
        "id": "WsvrCQVgweJE"
      }
    },
    {
      "cell_type": "markdown",
      "source": [
        "##### Random Forest Classifier tuning"
      ],
      "metadata": {
        "id": "Z_ACyERVwh6E"
      }
    },
    {
      "cell_type": "code",
      "source": [
        "def analyze_results(result):\n",
        "  means = result.cv_results_['mean_test_score']\n",
        "  stds = result.cv_results_['std_test_score']\n",
        "  params = result.cv_results_['params']\n",
        "  for mean, std, param in zip(means, stds, params):\n",
        "    print(f\"{mean} +/-{std} for {param} \")\n",
        "\n",
        "rf =  RandomForestClassifier()\n",
        "params = {\n",
        "    \"n_estimators\" : [1, 5, 10, 50, 100],\n",
        "    \"max_depth\": [ 10, 20, 50]\n",
        "}\n",
        "cv = GridSearchCV(rf, params, cv=5)\n",
        "cv.fit(x_train, y_train.values.ravel())\n",
        "analyze_results(cv)\n",
        "\n",
        "print('\\nbest', cv.best_estimator_, cv.best_score_, cv.best_params_)"
      ],
      "metadata": {
        "id": "WUZanrrDmJhn",
        "colab": {
          "base_uri": "https://localhost:8080/"
        },
        "outputId": "8e0e4eb5-0111-4a79-964c-810a86352380"
      },
      "execution_count": 19,
      "outputs": [
        {
          "output_type": "stream",
          "name": "stdout",
          "text": [
            "0.9 +/-0.0565194165260439 for {'max_depth': 10, 'n_estimators': 1} \n",
            "0.95 +/-0.04082482904638631 for {'max_depth': 10, 'n_estimators': 5} \n",
            "0.9333333333333333 +/-0.07728015412913089 for {'max_depth': 10, 'n_estimators': 10} \n",
            "0.9333333333333333 +/-0.07264831572567791 for {'max_depth': 10, 'n_estimators': 50} \n",
            "0.95 +/-0.06123724356957944 for {'max_depth': 10, 'n_estimators': 100} \n",
            "0.9166666666666667 +/-0.05892556509887895 for {'max_depth': 20, 'n_estimators': 1} \n",
            "0.9416666666666668 +/-0.05651941652604389 for {'max_depth': 20, 'n_estimators': 5} \n",
            "0.9333333333333333 +/-0.049999999999999996 for {'max_depth': 20, 'n_estimators': 10} \n",
            "0.95 +/-0.06123724356957944 for {'max_depth': 20, 'n_estimators': 50} \n",
            "0.95 +/-0.06123724356957944 for {'max_depth': 20, 'n_estimators': 100} \n",
            "0.8916666666666668 +/-0.062360956446232345 for {'max_depth': 50, 'n_estimators': 1} \n",
            "0.9416666666666667 +/-0.07728015412913088 for {'max_depth': 50, 'n_estimators': 5} \n",
            "0.9416666666666668 +/-0.05651941652604389 for {'max_depth': 50, 'n_estimators': 10} \n",
            "0.95 +/-0.06123724356957944 for {'max_depth': 50, 'n_estimators': 50} \n",
            "0.9416666666666667 +/-0.05651941652604389 for {'max_depth': 50, 'n_estimators': 100} \n",
            "\n",
            "best RandomForestClassifier(max_depth=10, n_estimators=5) 0.95 {'max_depth': 10, 'n_estimators': 5}\n"
          ]
        }
      ]
    },
    {
      "cell_type": "markdown",
      "source": [
        "##### Logistic Regression tuning"
      ],
      "metadata": {
        "id": "IWlw-VPRwodE"
      }
    },
    {
      "cell_type": "code",
      "source": [
        "# Logistic regression\n",
        "\n",
        "\n",
        "def analyze_results(result):\n",
        "  means = result.cv_results_['mean_test_score']\n",
        "  stds = result.cv_results_['std_test_score']\n",
        "  params = result.cv_results_['params']\n",
        "  for mean, std, param in zip(means, stds, params):\n",
        "    print(f\"{mean} +/-{std} for {param} \")\n",
        "\n",
        "lr =  LogisticRegression(max_iter=10000)\n",
        "params = {\n",
        "    \"C\" : [0.001, 0.01, 0.1, 1, 10, 100],\n",
        "}\n",
        "cv = GridSearchCV(lr, params, cv=5)\n",
        "cv.fit(x_train, y_train.values.ravel())\n",
        "analyze_results(cv)\n",
        "\n",
        "print('\\nbest', cv.best_estimator_, cv.best_score_, cv.best_params_)"
      ],
      "metadata": {
        "id": "gOZcJOhwbHFQ",
        "colab": {
          "base_uri": "https://localhost:8080/"
        },
        "outputId": "f0ac582d-8619-42c5-e01d-62466446c397"
      },
      "execution_count": 20,
      "outputs": [
        {
          "output_type": "stream",
          "name": "stdout",
          "text": [
            "0.8166666666666667 +/-0.10069204977995479 for {'C': 0.001} \n",
            "0.8583333333333334 +/-0.097182531580755 for {'C': 0.01} \n",
            "0.9333333333333333 +/-0.0565194165260439 for {'C': 0.1} \n",
            "0.9666666666666666 +/-0.0485912657903775 for {'C': 1} \n",
            "0.9416666666666667 +/-0.05651941652604389 for {'C': 10} \n",
            "0.95 +/-0.06123724356957944 for {'C': 100} \n",
            "\n",
            "best LogisticRegression(C=1, max_iter=10000) 0.9666666666666666 {'C': 1}\n"
          ]
        }
      ]
    },
    {
      "cell_type": "markdown",
      "source": [
        "##### MLP hyperparameter tuning"
      ],
      "metadata": {
        "id": "XNKAHRT_wujd"
      }
    },
    {
      "cell_type": "code",
      "source": [
        "# Multi-Layer Perceptron\n",
        "\n",
        "def analyze_results(result):\n",
        "  means = result.cv_results_['mean_test_score']\n",
        "  stds = result.cv_results_['std_test_score']\n",
        "  params = result.cv_results_['params']\n",
        "  for mean, std, param in zip(means, stds, params):\n",
        "    print(f\"{mean} +/-{std} for {param} \")\n",
        "\n",
        "mlp =  MLPClassifier(max_iter=10000)\n",
        "\n",
        "params = {\n",
        "    \"activation\" : ['identity','logistic', 'tanh','relu'],\n",
        "    # \"hidden_layer_sizes\": [(10,), (50,), (100,) (200,)],\n",
        "    \"learning_rate\": ['constant', 'invscaling', 'adaptive']\n",
        "}\n",
        "\n",
        "cv = GridSearchCV(mlp, params, cv=5)\n",
        "cv.fit(x_train, y_train.values.ravel())\n",
        "analyze_results(cv)\n",
        "\n",
        "print('\\nbest', cv.best_estimator_, cv.best_score_, cv.best_params_)"
      ],
      "metadata": {
        "colab": {
          "base_uri": "https://localhost:8080/"
        },
        "id": "FHPBYf7XrT6v",
        "outputId": "6980770c-6f8e-44b8-f698-1bb4fbc8506e"
      },
      "execution_count": 51,
      "outputs": [
        {
          "output_type": "stream",
          "name": "stdout",
          "text": [
            "0.9555555555555555 +/-0.041573970964154924 for {'activation': 'identity', 'learning_rate': 'constant'} \n",
            "0.9555555555555555 +/-0.041573970964154924 for {'activation': 'identity', 'learning_rate': 'invscaling'} \n",
            "0.9555555555555555 +/-0.041573970964154924 for {'activation': 'identity', 'learning_rate': 'adaptive'} \n",
            "0.9555555555555555 +/-0.041573970964154924 for {'activation': 'logistic', 'learning_rate': 'constant'} \n",
            "0.9555555555555555 +/-0.041573970964154924 for {'activation': 'logistic', 'learning_rate': 'invscaling'} \n",
            "0.9555555555555555 +/-0.041573970964154924 for {'activation': 'logistic', 'learning_rate': 'adaptive'} \n",
            "0.9777777777777779 +/-0.04444444444444447 for {'activation': 'tanh', 'learning_rate': 'constant'} \n",
            "0.9555555555555555 +/-0.041573970964154924 for {'activation': 'tanh', 'learning_rate': 'invscaling'} \n",
            "0.9777777777777779 +/-0.04444444444444447 for {'activation': 'tanh', 'learning_rate': 'adaptive'} \n",
            "0.9444444444444444 +/-0.03513641844631534 for {'activation': 'relu', 'learning_rate': 'constant'} \n",
            "0.9444444444444444 +/-0.03513641844631534 for {'activation': 'relu', 'learning_rate': 'invscaling'} \n",
            "0.9555555555555555 +/-0.041573970964154924 for {'activation': 'relu', 'learning_rate': 'adaptive'} \n",
            "\n",
            "best MLPClassifier(activation='tanh', max_iter=10000) 0.9777777777777779 {'activation': 'tanh', 'learning_rate': 'constant'}\n"
          ]
        }
      ]
    },
    {
      "cell_type": "markdown",
      "source": [
        "## Training models"
      ],
      "metadata": {
        "id": "yG343H6Zw9XF"
      }
    },
    {
      "cell_type": "code",
      "source": [
        "rf1 = RandomForestClassifier(n_estimators=5, max_depth=10)\n",
        "rf1.fit(x_train, y_train.values.ravel())"
      ],
      "metadata": {
        "id": "nyRUuvFtbNGD",
        "colab": {
          "base_uri": "https://localhost:8080/"
        },
        "outputId": "053c4479-d2fe-4753-dc3d-391c79f811c7"
      },
      "execution_count": 22,
      "outputs": [
        {
          "output_type": "execute_result",
          "data": {
            "text/plain": [
              "RandomForestClassifier(max_depth=10, n_estimators=5)"
            ]
          },
          "metadata": {},
          "execution_count": 22
        }
      ]
    },
    {
      "cell_type": "code",
      "source": [
        "lr1 =  LogisticRegression(C=1, max_iter=1000)\n",
        "lr1.fit(x_train, y_train.values.ravel())"
      ],
      "metadata": {
        "colab": {
          "base_uri": "https://localhost:8080/"
        },
        "id": "LzZKQL2MCU54",
        "outputId": "ef0b9516-663e-42bc-b77f-ab98d9efcc52"
      },
      "execution_count": 23,
      "outputs": [
        {
          "output_type": "execute_result",
          "data": {
            "text/plain": [
              "LogisticRegression(C=1, max_iter=1000)"
            ]
          },
          "metadata": {},
          "execution_count": 23
        }
      ]
    },
    {
      "cell_type": "code",
      "source": [
        "mlp1 = MLPClassifier(activation='tanh', learning_rate='constant', max_iter=1000)\n",
        "mlp1.fit(x_train, y_train.values.ravel())"
      ],
      "metadata": {
        "colab": {
          "base_uri": "https://localhost:8080/"
        },
        "id": "SmEcPqDRCWHo",
        "outputId": "7c4028b4-f6bc-4b5d-e1fa-2b5186caf37e"
      },
      "execution_count": 52,
      "outputs": [
        {
          "output_type": "execute_result",
          "data": {
            "text/plain": [
              "MLPClassifier(activation='tanh', max_iter=1000)"
            ]
          },
          "metadata": {},
          "execution_count": 52
        }
      ]
    },
    {
      "cell_type": "markdown",
      "source": [
        "## Metrics calculation of models"
      ],
      "metadata": {
        "id": "6c_rcI5YxHzk"
      }
    },
    {
      "cell_type": "code",
      "source": [
        "def analyse_scores(model):\n",
        "  start = time.time()\n",
        "  y_val_pred = model.predict(x_val)\n",
        "  end = time.time()\n",
        "  print(f'''\n",
        "    model: {model}\n",
        "    accuracy_score: {accuracy_score(y_val, y_val_pred)}\n",
        "    precision_score: {precision_score(y_val, y_val_pred, average='micro')} \n",
        "    recall_score: {recall_score(y_val, y_val_pred, average='micro')}\n",
        "    latency: {(end-start)*1000}s\n",
        "  ''')\n",
        "  return confusion_matrix(y_val, y_val_pred)"
      ],
      "metadata": {
        "id": "bxFdL1aMzQ3m"
      },
      "execution_count": 25,
      "outputs": []
    },
    {
      "cell_type": "markdown",
      "source": [
        "### On validation data"
      ],
      "metadata": {
        "id": "Si2IdZz7xNLd"
      }
    },
    {
      "cell_type": "markdown",
      "source": [
        "##### Model 1 (Random forest)"
      ],
      "metadata": {
        "id": "2-nwo3pqoJ-G"
      }
    },
    {
      "cell_type": "code",
      "source": [
        "cm_rf = analyse_scores(rf1)\n",
        "sns.heatmap(data=cm_rf, cmap='Blues')"
      ],
      "metadata": {
        "colab": {
          "base_uri": "https://localhost:8080/",
          "height": 415
        },
        "id": "Ajqr_sUToU5U",
        "outputId": "86b3e54c-85f7-4138-c1e5-58c249612111"
      },
      "execution_count": 26,
      "outputs": [
        {
          "output_type": "stream",
          "name": "stdout",
          "text": [
            "\n",
            "    model: RandomForestClassifier(max_depth=10, n_estimators=5)\n",
            "    accuracy_score: 1.0\n",
            "    precision_score: 1.0 \n",
            "    recall_score: 1.0\n",
            "    latency: 3.622770309448242s\n",
            "  \n"
          ]
        },
        {
          "output_type": "execute_result",
          "data": {
            "text/plain": [
              "<matplotlib.axes._subplots.AxesSubplot at 0x7fc2583d1580>"
            ]
          },
          "metadata": {},
          "execution_count": 26
        },
        {
          "output_type": "display_data",
          "data": {
            "text/plain": [
              "<Figure size 432x288 with 2 Axes>"
            ],
            "image/png": "[encoded data removed]"
          },
          "metadata": {
            "needs_background": "light"
          }
        }
      ]
    },
    {
      "cell_type": "markdown",
      "source": [
        "##### Model 2 (Logistic Regression)"
      ],
      "metadata": {
        "id": "kZSDNvWPoOVH"
      }
    },
    {
      "cell_type": "code",
      "source": [
        "cm_lr = analyse_scores(lr1)\n",
        "sns.heatmap(data=cm_lr, cmap='Blues')"
      ],
      "metadata": {
        "colab": {
          "base_uri": "https://localhost:8080/",
          "height": 415
        },
        "id": "S2y4NlRNocJU",
        "outputId": "8b42ba5d-d37c-4d9d-e5c7-cd2f34ca1c8b"
      },
      "execution_count": 27,
      "outputs": [
        {
          "output_type": "stream",
          "name": "stdout",
          "text": [
            "\n",
            "    model: LogisticRegression(C=1, max_iter=1000)\n",
            "    accuracy_score: 1.0\n",
            "    precision_score: 1.0 \n",
            "    recall_score: 1.0\n",
            "    latency: 1.9059181213378906s\n",
            "  \n"
          ]
        },
        {
          "output_type": "execute_result",
          "data": {
            "text/plain": [
              "<matplotlib.axes._subplots.AxesSubplot at 0x7fc2583d1a00>"
            ]
          },
          "metadata": {},
          "execution_count": 27
        },
        {
          "output_type": "display_data",
          "data": {
            "text/plain": [
              "<Figure size 432x288 with 2 Axes>"
            ],
            "image/png": "[encoded data removed]"
          },
          "metadata": {
            "needs_background": "light"
          }
        }
      ]
    },
    {
      "cell_type": "markdown",
      "source": [
        "##### Model 3 (Multi Layer Perceptron)"
      ],
      "metadata": {
        "id": "IHeLnMbLoRwH"
      }
    },
    {
      "cell_type": "code",
      "source": [
        "cm_mlp = analyse_scores(mlp1)\n",
        "sns.heatmap(data=cm_mlp,  cmap='Blues')"
      ],
      "metadata": {
        "colab": {
          "base_uri": "https://localhost:8080/",
          "height": 415
        },
        "id": "A1D1MGgxohGE",
        "outputId": "6bd0a396-b35d-4128-e097-e7a78b71d8f6"
      },
      "execution_count": 28,
      "outputs": [
        {
          "output_type": "stream",
          "name": "stdout",
          "text": [
            "\n",
            "    model: MLPClassifier(activation='identity', max_iter=1000)\n",
            "    accuracy_score: 1.0\n",
            "    precision_score: 1.0 \n",
            "    recall_score: 1.0\n",
            "    latency: 2.038717269897461s\n",
            "  \n"
          ]
        },
        {
          "output_type": "execute_result",
          "data": {
            "text/plain": [
              "<matplotlib.axes._subplots.AxesSubplot at 0x7fc257fb9d00>"
            ]
          },
          "metadata": {},
          "execution_count": 28
        },
        {
          "output_type": "display_data",
          "data": {
            "text/plain": [
              "<Figure size 432x288 with 2 Axes>"
            ],
            "image/png": "[encoded data removed]"
          },
          "metadata": {
            "needs_background": "light"
          }
        }
      ]
    },
    {
      "cell_type": "markdown",
      "source": [
        "### On testing data"
      ],
      "metadata": {
        "id": "628MqlrdxQz9"
      }
    },
    {
      "cell_type": "code",
      "source": [
        "def analyse_scores(model):\n",
        "  start = time.time()\n",
        "  y_test_pred = model.predict(x_test)\n",
        "  end = time.time()\n",
        "  print(f'''\n",
        "    model: {model}\n",
        "    accuracy_score: {accuracy_score(y_test, y_test_pred)}\n",
        "    precision_score: {precision_score(y_test, y_test_pred, average='micro')} \n",
        "    recall_score: {recall_score(y_test, y_test_pred, average='micro')}\n",
        "    latency: {(end-start)*1000}s\n",
        "  ''')\n",
        "  return confusion_matrix(y_test, y_test_pred)"
      ],
      "metadata": {
        "id": "dxFkNlUR4QCG"
      },
      "execution_count": 29,
      "outputs": []
    },
    {
      "cell_type": "markdown",
      "source": [
        "##### Model 1 (Random Forest)"
      ],
      "metadata": {
        "id": "m9qYMhnCrjyt"
      }
    },
    {
      "cell_type": "code",
      "source": [
        "cm_rf = analyse_scores(rf1)\n",
        "sns.heatmap(data=cm_rf, cmap='Blues')"
      ],
      "metadata": {
        "colab": {
          "base_uri": "https://localhost:8080/",
          "height": 415
        },
        "id": "rxGdlPdrsAJX",
        "outputId": "e2436f9b-55ea-46a0-da82-9a31e3bbcb5f"
      },
      "execution_count": 30,
      "outputs": [
        {
          "output_type": "stream",
          "name": "stdout",
          "text": [
            "\n",
            "    model: RandomForestClassifier(max_depth=10, n_estimators=5)\n",
            "    accuracy_score: 1.0\n",
            "    precision_score: 1.0 \n",
            "    recall_score: 1.0\n",
            "    latency: 4.173755645751953s\n",
            "  \n"
          ]
        },
        {
          "output_type": "execute_result",
          "data": {
            "text/plain": [
              "<matplotlib.axes._subplots.AxesSubplot at 0x7fc257f588b0>"
            ]
          },
          "metadata": {},
          "execution_count": 30
        },
        {
          "output_type": "display_data",
          "data": {
            "text/plain": [
              "<Figure size 432x288 with 2 Axes>"
            ],
            "image/png": "[encoded data removed]"
          },
          "metadata": {
            "needs_background": "light"
          }
        }
      ]
    },
    {
      "cell_type": "markdown",
      "source": [
        "##### Model 2 (Logistic Regression)"
      ],
      "metadata": {
        "id": "qf50Gqv3rpld"
      }
    },
    {
      "cell_type": "code",
      "source": [
        "cm_lr = analyse_scores(lr1)\n",
        "sns.heatmap(data=cm_lr, cmap='Blues')"
      ],
      "metadata": {
        "colab": {
          "base_uri": "https://localhost:8080/",
          "height": 415
        },
        "id": "61A8E2oMsAx4",
        "outputId": "efa2adfa-a463-4d63-a998-96be57d67fee"
      },
      "execution_count": 31,
      "outputs": [
        {
          "output_type": "stream",
          "name": "stdout",
          "text": [
            "\n",
            "    model: LogisticRegression(C=1, max_iter=1000)\n",
            "    accuracy_score: 1.0\n",
            "    precision_score: 1.0 \n",
            "    recall_score: 1.0\n",
            "    latency: 1.3120174407958984s\n",
            "  \n"
          ]
        },
        {
          "output_type": "execute_result",
          "data": {
            "text/plain": [
              "<matplotlib.axes._subplots.AxesSubplot at 0x7fc254229b80>"
            ]
          },
          "metadata": {},
          "execution_count": 31
        },
        {
          "output_type": "display_data",
          "data": {
            "text/plain": [
              "<Figure size 432x288 with 2 Axes>"
            ],
            "image/png": "[encoded data removed]"
          },
          "metadata": {
            "needs_background": "light"
          }
        }
      ]
    },
    {
      "cell_type": "markdown",
      "source": [
        "##### Model 3 (Multi Layer Perceptron)"
      ],
      "metadata": {
        "id": "q1n3pmltrueF"
      }
    },
    {
      "cell_type": "code",
      "source": [
        "cm_mlp1 = analyse_scores(mlp1)\n",
        "sns.heatmap(data=cm_mlp1, cmap='Blues')"
      ],
      "metadata": {
        "colab": {
          "base_uri": "https://localhost:8080/",
          "height": 415
        },
        "id": "npxCBktLsFBG",
        "outputId": "0b3cc5dc-aa23-4d77-cf49-738b23af2a39"
      },
      "execution_count": 32,
      "outputs": [
        {
          "output_type": "stream",
          "name": "stdout",
          "text": [
            "\n",
            "    model: MLPClassifier(activation='identity', max_iter=1000)\n",
            "    accuracy_score: 1.0\n",
            "    precision_score: 1.0 \n",
            "    recall_score: 1.0\n",
            "    latency: 1.7464160919189453s\n",
            "  \n"
          ]
        },
        {
          "output_type": "execute_result",
          "data": {
            "text/plain": [
              "<matplotlib.axes._subplots.AxesSubplot at 0x7fc2541b60a0>"
            ]
          },
          "metadata": {},
          "execution_count": 32
        },
        {
          "output_type": "display_data",
          "data": {
            "text/plain": [
              "<Figure size 432x288 with 2 Axes>"
            ],
            "image/png": "[encoded data removed]"
          },
          "metadata": {
            "needs_background": "light"
          }
        }
      ]
    },
    {
      "cell_type": "markdown",
      "source": [
        "# 60:20:20 split\n",
        "\n",
        "> Contains the following:\n",
        "1. Train, validation, test splitting\n",
        "2. Five fold cross validation\n",
        "3. Hyperparameter tuning, \n",
        "4. Model fitting \n",
        "5. Metrics calculation of models\n"
      ],
      "metadata": {
        "id": "d1rJ4gJYxYt0"
      }
    },
    {
      "cell_type": "markdown",
      "source": [
        "## Splitting data\n"
      ],
      "metadata": {
        "id": "JtiKLaoFxgEU"
      }
    },
    {
      "cell_type": "code",
      "source": [
        "# split train, validation and test into 60:20:20 ratio\n",
        "features = df.drop('variety', axis=1)\n",
        "target_label = df['variety']\n",
        "x_train, x_test, y_train, y_test = train_test_split(features, target_label, test_size=0.4, random_state=42)\n",
        "x_test, x_val, y_test, y_val = train_test_split(x_test, y_test, test_size=0.5, random_state=42)\n",
        "print('training data samples:', len(y_train), f\"({round(len(y_train)/len(target_label), 2) * 100}%)\"  )\n",
        "print('validation data samples:',len(y_val), f\"({round(len(y_val)/len(target_label), 2) * 100}%)\")\n",
        "print('test data samples:', len(y_test), f\"({round(len(y_test)/len(target_label), 2) * 100})\")"
      ],
      "metadata": {
        "colab": {
          "base_uri": "https://localhost:8080/"
        },
        "id": "8iREq_IK4CJK",
        "outputId": "39ea0f72-664b-43c8-df9b-5ead1fd35b31"
      },
      "execution_count": 33,
      "outputs": [
        {
          "output_type": "stream",
          "name": "stdout",
          "text": [
            "training data samples: 90 (60.0%)\n",
            "validation data samples: 30 (20.0%)\n",
            "test data samples: 30 (20.0)\n"
          ]
        }
      ]
    },
    {
      "cell_type": "markdown",
      "source": [
        "## Five fold cross validation"
      ],
      "metadata": {
        "id": "sMbSmw40v8WB"
      }
    },
    {
      "cell_type": "code",
      "source": [
        "rf =  RandomForestClassifier()\n",
        "print(rf, cross_val_score(rf, x_train, y_train, cv=5))"
      ],
      "metadata": {
        "colab": {
          "base_uri": "https://localhost:8080/"
        },
        "id": "FH7jA9--wA4v",
        "outputId": "3a609cdf-706a-4ffe-b300-c55398417e9b"
      },
      "execution_count": 34,
      "outputs": [
        {
          "output_type": "stream",
          "name": "stdout",
          "text": [
            "RandomForestClassifier() [1.         0.72222222 1.         0.94444444 0.94444444]\n"
          ]
        }
      ]
    },
    {
      "cell_type": "code",
      "source": [
        "lr =  LogisticRegression(max_iter=10000)\n",
        "print(lr, cross_val_score(lr, x_train, y_train, cv=5))"
      ],
      "metadata": {
        "colab": {
          "base_uri": "https://localhost:8080/"
        },
        "id": "xwgH7W6zwBqu",
        "outputId": "d321ce5b-5df8-4593-eb4e-2164b61d7285"
      },
      "execution_count": 35,
      "outputs": [
        {
          "output_type": "stream",
          "name": "stdout",
          "text": [
            "LogisticRegression(max_iter=10000) [1.         0.77777778 1.         1.         0.94444444]\n"
          ]
        }
      ]
    },
    {
      "cell_type": "code",
      "source": [
        "mlp =  MLPClassifier(max_iter=1000)\n",
        "print(mlp, cross_val_score(mlp, x_train, y_train, cv=5))"
      ],
      "metadata": {
        "colab": {
          "base_uri": "https://localhost:8080/"
        },
        "id": "wn8LzbPjwB8c",
        "outputId": "1b2a17f7-94a1-41bb-939d-aa691806912b"
      },
      "execution_count": 36,
      "outputs": [
        {
          "output_type": "stream",
          "name": "stdout",
          "text": [
            "MLPClassifier(max_iter=1000) [0.94444444 0.88888889 0.94444444 1.         1.        ]\n"
          ]
        }
      ]
    },
    {
      "cell_type": "markdown",
      "source": [
        "## Hyperparameter Tuning of models"
      ],
      "metadata": {
        "id": "kD5BLyjHxx1l"
      }
    },
    {
      "cell_type": "markdown",
      "source": [
        "### Random Forest Classifier "
      ],
      "metadata": {
        "id": "aud-oJf8x1VV"
      }
    },
    {
      "cell_type": "code",
      "source": [
        "def analyze_results(result):\n",
        "  means = result.cv_results_['mean_test_score']\n",
        "  stds = result.cv_results_['std_test_score']\n",
        "  params = result.cv_results_['params']\n",
        "  for mean, std, param in zip(means, stds, params):\n",
        "    print(f\"{mean} +/-{std} for {param} \")\n",
        "\n",
        "rf =  RandomForestClassifier()\n",
        "params = {\n",
        "    \"n_estimators\" : [1, 5, 10, 20, 50, 100],\n",
        "    \"max_depth\": [1, 2, 5, 10, 20, 50, None]\n",
        "}\n",
        "cv = GridSearchCV(rf, params, cv=5)\n",
        "cv.fit(x_train, y_train.values.ravel())\n",
        "analyze_results(cv)\n",
        "\n",
        "print('best', cv.best_estimator_, cv.best_score_, cv.best_params_)"
      ],
      "metadata": {
        "colab": {
          "base_uri": "https://localhost:8080/"
        },
        "id": "_uJRbSDIbq8E",
        "outputId": "e4796919-40d5-448f-d459-d38fd70043a5"
      },
      "execution_count": 37,
      "outputs": [
        {
          "output_type": "stream",
          "name": "stdout",
          "text": [
            "0.6444444444444444 +/-0.056655772373253144 for {'max_depth': 1, 'n_estimators': 1} \n",
            "0.8 +/-0.16703662642636563 for {'max_depth': 1, 'n_estimators': 5} \n",
            "0.9111111111111112 +/-0.06666666666666665 for {'max_depth': 1, 'n_estimators': 10} \n",
            "0.8666666666666668 +/-0.10304020550550781 for {'max_depth': 1, 'n_estimators': 20} \n",
            "0.8777777777777779 +/-0.0816496580927726 for {'max_depth': 1, 'n_estimators': 50} \n",
            "0.9 +/-0.09558139185602918 for {'max_depth': 1, 'n_estimators': 100} \n",
            "0.8777777777777777 +/-0.08888888888888888 for {'max_depth': 2, 'n_estimators': 1} \n",
            "0.9111111111111111 +/-0.0753592220347252 for {'max_depth': 2, 'n_estimators': 5} \n",
            "0.888888888888889 +/-0.09296222517045283 for {'max_depth': 2, 'n_estimators': 10} \n",
            "0.9222222222222222 +/-0.08314794192830981 for {'max_depth': 2, 'n_estimators': 20} \n",
            "0.9 +/-0.09558139185602918 for {'max_depth': 2, 'n_estimators': 50} \n",
            "0.9333333333333333 +/-0.10772621905369621 for {'max_depth': 2, 'n_estimators': 100} \n",
            "0.8666666666666666 +/-0.10304020550550781 for {'max_depth': 5, 'n_estimators': 1} \n",
            "0.9111111111111111 +/-0.10304020550550783 for {'max_depth': 5, 'n_estimators': 5} \n",
            "0.9333333333333333 +/-0.10772621905369621 for {'max_depth': 5, 'n_estimators': 10} \n",
            "0.9111111111111111 +/-0.09686442096757052 for {'max_depth': 5, 'n_estimators': 20} \n",
            "0.9222222222222222 +/-0.10304020550550783 for {'max_depth': 5, 'n_estimators': 50} \n",
            "0.9333333333333333 +/-0.10772621905369621 for {'max_depth': 5, 'n_estimators': 100} \n",
            "0.9222222222222223 +/-0.0753592220347252 for {'max_depth': 10, 'n_estimators': 1} \n",
            "0.9222222222222223 +/-0.10304020550550781 for {'max_depth': 10, 'n_estimators': 5} \n",
            "0.9111111111111112 +/-0.06666666666666667 for {'max_depth': 10, 'n_estimators': 10} \n",
            "0.9222222222222223 +/-0.10304020550550781 for {'max_depth': 10, 'n_estimators': 20} \n",
            "0.9333333333333333 +/-0.10772621905369621 for {'max_depth': 10, 'n_estimators': 50} \n",
            "0.9222222222222223 +/-0.10304020550550781 for {'max_depth': 10, 'n_estimators': 100} \n",
            "0.9 +/-0.09558139185602918 for {'max_depth': 20, 'n_estimators': 1} \n",
            "0.9111111111111111 +/-0.09686442096757052 for {'max_depth': 20, 'n_estimators': 5} \n",
            "0.9222222222222222 +/-0.10304020550550783 for {'max_depth': 20, 'n_estimators': 10} \n",
            "0.9222222222222223 +/-0.10304020550550781 for {'max_depth': 20, 'n_estimators': 20} \n",
            "0.9333333333333333 +/-0.10772621905369621 for {'max_depth': 20, 'n_estimators': 50} \n",
            "0.9222222222222222 +/-0.10304020550550783 for {'max_depth': 20, 'n_estimators': 100} \n",
            "0.8555555555555557 +/-0.07535922203472518 for {'max_depth': 50, 'n_estimators': 1} \n",
            "0.9 +/-0.08888888888888886 for {'max_depth': 50, 'n_estimators': 5} \n",
            "0.9111111111111111 +/-0.09686442096757052 for {'max_depth': 50, 'n_estimators': 10} \n",
            "0.9111111111111111 +/-0.09686442096757052 for {'max_depth': 50, 'n_estimators': 20} \n",
            "0.9111111111111111 +/-0.09686442096757052 for {'max_depth': 50, 'n_estimators': 50} \n",
            "0.9222222222222223 +/-0.10304020550550781 for {'max_depth': 50, 'n_estimators': 100} \n",
            "0.8444444444444444 +/-0.1018350154434631 for {'max_depth': None, 'n_estimators': 1} \n",
            "0.9 +/-0.09558139185602918 for {'max_depth': None, 'n_estimators': 5} \n",
            "0.9 +/-0.09558139185602918 for {'max_depth': None, 'n_estimators': 10} \n",
            "0.9222222222222223 +/-0.10304020550550781 for {'max_depth': None, 'n_estimators': 20} \n",
            "0.9333333333333333 +/-0.10772621905369621 for {'max_depth': None, 'n_estimators': 50} \n",
            "0.9222222222222223 +/-0.10304020550550781 for {'max_depth': None, 'n_estimators': 100} \n",
            "best RandomForestClassifier(max_depth=2) 0.9333333333333333 {'max_depth': 2, 'n_estimators': 100}\n"
          ]
        }
      ]
    },
    {
      "cell_type": "markdown",
      "source": [
        "### Logisic Regression"
      ],
      "metadata": {
        "id": "mozhVpQGx_Qd"
      }
    },
    {
      "cell_type": "code",
      "source": [
        "# Logistic regression\n",
        "\n",
        "def analyze_results(result):\n",
        "  means = result.cv_results_['mean_test_score']\n",
        "  stds = result.cv_results_['std_test_score']\n",
        "  params = result.cv_results_['params']\n",
        "  for mean, std, param in zip(means, stds, params):\n",
        "    print(f\"{mean} +/-{std} for {param} \")\n",
        "\n",
        "lr =  LogisticRegression(max_iter=10000)\n",
        "params = {\n",
        "    \"C\" : [0.001, 0.01, 0.1, 1, 10, 100],\n",
        "}\n",
        "cv = GridSearchCV(lr, params, cv=5)\n",
        "cv.fit(x_train, y_train.values.ravel())\n",
        "analyze_results(cv)\n",
        "\n",
        "print('best', cv.best_estimator_, cv.best_score_, cv.best_params_)"
      ],
      "metadata": {
        "colab": {
          "base_uri": "https://localhost:8080/"
        },
        "id": "HTlHv100yDZc",
        "outputId": "8c7a4bac-ecea-4c56-caf0-77db30e9ccde"
      },
      "execution_count": 38,
      "outputs": [
        {
          "output_type": "stream",
          "name": "stdout",
          "text": [
            "0.6222222222222222 +/-0.16629588385661961 for {'C': 0.001} \n",
            "0.8333333333333334 +/-0.09938079899999065 for {'C': 0.01} \n",
            "0.9111111111111111 +/-0.08314794192830981 for {'C': 0.1} \n",
            "0.9444444444444444 +/-0.08606629658238703 for {'C': 1} \n",
            "0.9444444444444444 +/-0.06085806194501844 for {'C': 10} \n",
            "0.9444444444444444 +/-0.08606629658238703 for {'C': 100} \n",
            "best LogisticRegression(C=1, max_iter=10000) 0.9444444444444444 {'C': 1}\n"
          ]
        }
      ]
    },
    {
      "cell_type": "markdown",
      "source": [
        "### Multi Layer Perceptron"
      ],
      "metadata": {
        "id": "Bh32EgtvyPbG"
      }
    },
    {
      "cell_type": "code",
      "source": [
        "# Multi-Layer Perceptron\n",
        "\n",
        "def analyze_results(result):\n",
        "  means = result.cv_results_['mean_test_score']\n",
        "  stds = result.cv_results_['std_test_score']\n",
        "  params = result.cv_results_['params']\n",
        "  for mean, std, param in zip(means, stds, params):\n",
        "    print(f\"{mean} +/-{std} for {param} \")\n",
        "\n",
        "mlp =  MLPClassifier(max_iter=10000)\n",
        "\n",
        "params = {\n",
        "    \"activation\" : ['identity','logistic', 'tanh','relu'],\n",
        "    \"learning_rate\": ['constant', 'invscaling', 'adaptive']\n",
        "}\n",
        "\n",
        "cv = GridSearchCV(mlp, params, cv=5)\n",
        "cv.fit(x_train, y_train.values.ravel())\n",
        "analyze_results(cv)\n",
        "\n",
        "print('best', cv.best_estimator_, cv.best_score_, cv.best_params_)"
      ],
      "metadata": {
        "id": "bojEWXs7yTM1",
        "colab": {
          "base_uri": "https://localhost:8080/"
        },
        "outputId": "5b2b1dbb-e36a-4ee9-eccb-48b152cf81cd"
      },
      "execution_count": 39,
      "outputs": [
        {
          "output_type": "stream",
          "name": "stdout",
          "text": [
            "0.9555555555555555 +/-0.041573970964154924 for {'activation': 'identity', 'learning_rate': 'constant'} \n",
            "0.9555555555555555 +/-0.041573970964154924 for {'activation': 'identity', 'learning_rate': 'invscaling'} \n",
            "0.9555555555555555 +/-0.041573970964154924 for {'activation': 'identity', 'learning_rate': 'adaptive'} \n",
            "0.9555555555555555 +/-0.041573970964154924 for {'activation': 'logistic', 'learning_rate': 'constant'} \n",
            "0.9555555555555555 +/-0.041573970964154924 for {'activation': 'logistic', 'learning_rate': 'invscaling'} \n",
            "0.9555555555555555 +/-0.041573970964154924 for {'activation': 'logistic', 'learning_rate': 'adaptive'} \n",
            "0.9555555555555555 +/-0.041573970964154924 for {'activation': 'tanh', 'learning_rate': 'constant'} \n",
            "0.9666666666666666 +/-0.04444444444444447 for {'activation': 'tanh', 'learning_rate': 'invscaling'} \n",
            "0.9666666666666666 +/-0.04444444444444447 for {'activation': 'tanh', 'learning_rate': 'adaptive'} \n",
            "0.9444444444444444 +/-0.03513641844631534 for {'activation': 'relu', 'learning_rate': 'constant'} \n",
            "0.9444444444444444 +/-0.03513641844631534 for {'activation': 'relu', 'learning_rate': 'invscaling'} \n",
            "0.9444444444444444 +/-0.03513641844631534 for {'activation': 'relu', 'learning_rate': 'adaptive'} \n",
            "best MLPClassifier(activation='tanh', learning_rate='invscaling', max_iter=10000) 0.9666666666666666 {'activation': 'tanh', 'learning_rate': 'invscaling'}\n"
          ]
        }
      ]
    },
    {
      "cell_type": "markdown",
      "source": [
        "## Fit the models"
      ],
      "metadata": {
        "id": "FbX-JrNZy-uu"
      }
    },
    {
      "cell_type": "code",
      "source": [
        "rf1 = RandomForestClassifier(n_estimators=100, max_depth=2)\n",
        "rf1.fit(x_train, y_train.values.ravel())"
      ],
      "metadata": {
        "id": "-gi6fMvMzAWG",
        "colab": {
          "base_uri": "https://localhost:8080/"
        },
        "outputId": "b06e0b5e-dffb-4848-b46e-117618416f0c"
      },
      "execution_count": 53,
      "outputs": [
        {
          "output_type": "execute_result",
          "data": {
            "text/plain": [
              "RandomForestClassifier(max_depth=2)"
            ]
          },
          "metadata": {},
          "execution_count": 53
        }
      ]
    },
    {
      "cell_type": "code",
      "source": [
        "lr1 =  LogisticRegression(C=1, max_iter=1000)\n",
        "lr1.fit(x_train, y_train.values.ravel())"
      ],
      "metadata": {
        "colab": {
          "base_uri": "https://localhost:8080/"
        },
        "id": "jNA3RUl6C0e6",
        "outputId": "a6a920fd-f3a7-4685-d7fb-2fc013742237"
      },
      "execution_count": 41,
      "outputs": [
        {
          "output_type": "execute_result",
          "data": {
            "text/plain": [
              "LogisticRegression(C=1, max_iter=1000)"
            ]
          },
          "metadata": {},
          "execution_count": 41
        }
      ]
    },
    {
      "cell_type": "code",
      "source": [
        "mlp1 = MLPClassifier(activation='tanh', learning_rate='invscaling', max_iter=1000)\n",
        "mlp1.fit(x_train, y_train.values.ravel())"
      ],
      "metadata": {
        "colab": {
          "base_uri": "https://localhost:8080/"
        },
        "id": "_p1Qg3DqC156",
        "outputId": "cf65404d-df5e-455f-a805-4c5f02155b4d"
      },
      "execution_count": 54,
      "outputs": [
        {
          "output_type": "execute_result",
          "data": {
            "text/plain": [
              "MLPClassifier(activation='tanh', learning_rate='invscaling', max_iter=1000)"
            ]
          },
          "metadata": {},
          "execution_count": 54
        }
      ]
    },
    {
      "cell_type": "markdown",
      "source": [
        "## Metrics calculation"
      ],
      "metadata": {
        "id": "JVG-WtiCyk-m"
      }
    },
    {
      "cell_type": "markdown",
      "source": [
        "### Validation data"
      ],
      "metadata": {
        "id": "xKWZ9GfcyqKF"
      }
    },
    {
      "cell_type": "code",
      "source": [
        "def analyse_scores(model):\n",
        "  start = time.time()\n",
        "  y_val_pred = model.predict(x_val)\n",
        "  end = time.time()\n",
        "  print(f'''\n",
        "    model: {model}\n",
        "    accuracy_score: {accuracy_score(y_val, y_val_pred)}\n",
        "    precision_score: {precision_score(y_val, y_val_pred, average='micro')} \n",
        "    recall_score: {recall_score(y_val, y_val_pred, average='micro')}\n",
        "    latency: {(end-start)*1000}s\n",
        "  ''')\n",
        "  return(confusion_matrix(y_val, y_val_pred))\n"
      ],
      "metadata": {
        "id": "7R5sHUPVsaL4"
      },
      "execution_count": 43,
      "outputs": []
    },
    {
      "cell_type": "markdown",
      "source": [
        "##### Model 1 (Random Forest)"
      ],
      "metadata": {
        "id": "tgTH_-jbss6P"
      }
    },
    {
      "cell_type": "code",
      "source": [
        "cm_rf = analyse_scores(rf1)\n",
        "sns.heatmap(data=cm_rf, cmap='Blues')"
      ],
      "metadata": {
        "id": "TjPOH0mOynyu",
        "colab": {
          "base_uri": "https://localhost:8080/",
          "height": 411
        },
        "outputId": "d2b434e4-95b0-4038-eb23-b5b0fbcf92d1"
      },
      "execution_count": 44,
      "outputs": [
        {
          "output_type": "stream",
          "name": "stdout",
          "text": [
            "\n",
            "    model: RandomForestClassifier(max_depth=5)\n",
            "    accuracy_score: 0.9666666666666667\n",
            "    precision_score: 0.9666666666666667 \n",
            "    recall_score: 0.9666666666666667\n",
            "    latency: 16.173124313354492s\n",
            "  \n"
          ]
        },
        {
          "output_type": "execute_result",
          "data": {
            "text/plain": [
              "<matplotlib.axes._subplots.AxesSubplot at 0x7fc25825c940>"
            ]
          },
          "metadata": {},
          "execution_count": 44
        },
        {
          "output_type": "display_data",
          "data": {
            "text/plain": [
              "<Figure size 432x288 with 2 Axes>"
            ],
            "image/png": "[encoded data removed]"
          },
          "metadata": {
            "needs_background": "light"
          }
        }
      ]
    },
    {
      "cell_type": "markdown",
      "source": [
        "##### Model 2 (Logistic Regression)"
      ],
      "metadata": {
        "id": "MOem1_rps2W-"
      }
    },
    {
      "cell_type": "code",
      "source": [
        "cm_lr = analyse_scores(lr1)\n",
        "sns.heatmap(data=cm_lr, cmap='Blues')"
      ],
      "metadata": {
        "colab": {
          "base_uri": "https://localhost:8080/",
          "height": 411
        },
        "id": "g22jN94pspQW",
        "outputId": "c2e7d952-239d-4a04-9ed2-d1632c56872c"
      },
      "execution_count": 45,
      "outputs": [
        {
          "output_type": "stream",
          "name": "stdout",
          "text": [
            "\n",
            "    model: LogisticRegression(C=1, max_iter=1000)\n",
            "    accuracy_score: 1.0\n",
            "    precision_score: 1.0 \n",
            "    recall_score: 1.0\n",
            "    latency: 1.8396377563476562s\n",
            "  \n"
          ]
        },
        {
          "output_type": "execute_result",
          "data": {
            "text/plain": [
              "<matplotlib.axes._subplots.AxesSubplot at 0x7fc257cc6a00>"
            ]
          },
          "metadata": {},
          "execution_count": 45
        },
        {
          "output_type": "display_data",
          "data": {
            "text/plain": [
              "<Figure size 432x288 with 2 Axes>"
            ],
            "image/png": "[encoded data removed]"
          },
          "metadata": {
            "needs_background": "light"
          }
        }
      ]
    },
    {
      "cell_type": "markdown",
      "source": [
        "##### Model 3 (Multi Layer Perceptron)"
      ],
      "metadata": {
        "id": "RoBfQDths5_n"
      }
    },
    {
      "cell_type": "code",
      "source": [
        "cm_mlp1 = analyse_scores(mlp1)\n",
        "sns.heatmap(data=cm_mlp1, cmap='Blues')"
      ],
      "metadata": {
        "colab": {
          "base_uri": "https://localhost:8080/",
          "height": 411
        },
        "id": "c6NHQoqWspqp",
        "outputId": "85e84ed8-b7b0-4601-f369-7bee61b126e9"
      },
      "execution_count": 46,
      "outputs": [
        {
          "output_type": "stream",
          "name": "stdout",
          "text": [
            "\n",
            "    model: MLPClassifier(activation='tanh', learning_rate='adaptive', max_iter=1000)\n",
            "    accuracy_score: 0.9666666666666667\n",
            "    precision_score: 0.9666666666666667 \n",
            "    recall_score: 0.9666666666666667\n",
            "    latency: 2.2742748260498047s\n",
            "  \n"
          ]
        },
        {
          "output_type": "execute_result",
          "data": {
            "text/plain": [
              "<matplotlib.axes._subplots.AxesSubplot at 0x7fc258270970>"
            ]
          },
          "metadata": {},
          "execution_count": 46
        },
        {
          "output_type": "display_data",
          "data": {
            "text/plain": [
              "<Figure size 432x288 with 2 Axes>"
            ],
            "image/png": "[encoded data removed]"
          },
          "metadata": {
            "needs_background": "light"
          }
        }
      ]
    },
    {
      "cell_type": "markdown",
      "source": [
        "### Testing data"
      ],
      "metadata": {
        "id": "rfuDoTr7ytfV"
      }
    },
    {
      "cell_type": "code",
      "source": [
        "def analyse_scores(model):\n",
        "  start = time.time()\n",
        "  y_test_pred = model.predict(x_test)\n",
        "  start = time.time()\n",
        "  end = time.time()\n",
        "  print(f'''\n",
        "    model: {model}\n",
        "    accuracy_score: {accuracy_score(y_test, y_test_pred)}\n",
        "    precision_score: {precision_score(y_test, y_test_pred, average='micro')} \n",
        "    recall_score: {recall_score(y_test, y_test_pred, average='micro')}\n",
        "    latency: {(end-start)*1000}s\n",
        "  ''')\n",
        "  return confusion_matrix(y_test, y_test_pred)"
      ],
      "metadata": {
        "id": "mNjhECfRyxLd"
      },
      "execution_count": 47,
      "outputs": []
    },
    {
      "cell_type": "markdown",
      "source": [
        "##### Model 1 (Random Forest)"
      ],
      "metadata": {
        "id": "wDqhXqxRtN-m"
      }
    },
    {
      "cell_type": "code",
      "source": [
        "cm_rf = analyse_scores(rf1)\n",
        "sns.heatmap(data=cm_rf, cmap='Blues')"
      ],
      "metadata": {
        "colab": {
          "base_uri": "https://localhost:8080/",
          "height": 415
        },
        "id": "m9NPRZsDtEH8",
        "outputId": "39c052f7-66a8-4953-927c-9a405d6bce96"
      },
      "execution_count": 48,
      "outputs": [
        {
          "output_type": "stream",
          "name": "stdout",
          "text": [
            "\n",
            "    model: RandomForestClassifier(max_depth=5)\n",
            "    accuracy_score: 1.0\n",
            "    precision_score: 1.0 \n",
            "    recall_score: 1.0\n",
            "    latency: 0.0002384185791015625s\n",
            "  \n"
          ]
        },
        {
          "output_type": "execute_result",
          "data": {
            "text/plain": [
              "<matplotlib.axes._subplots.AxesSubplot at 0x7fc24f78cc40>"
            ]
          },
          "metadata": {},
          "execution_count": 48
        },
        {
          "output_type": "display_data",
          "data": {
            "text/plain": [
              "<Figure size 432x288 with 2 Axes>"
            ],
            "image/png": "[encoded data removed]"
          },
          "metadata": {
            "needs_background": "light"
          }
        }
      ]
    },
    {
      "cell_type": "markdown",
      "source": [
        "##### Model 2 (Logistic Regression)"
      ],
      "metadata": {
        "id": "s8BHLa4ZtT71"
      }
    },
    {
      "cell_type": "code",
      "source": [
        "cm_lr = analyse_scores(lr1)\n",
        "sns.heatmap(data=cm_lr, cmap='Blues')"
      ],
      "metadata": {
        "colab": {
          "base_uri": "https://localhost:8080/",
          "height": 415
        },
        "id": "UAuQPvW8tEsa",
        "outputId": "af42551f-64f0-4577-c755-10aeb492d73c"
      },
      "execution_count": 49,
      "outputs": [
        {
          "output_type": "stream",
          "name": "stdout",
          "text": [
            "\n",
            "    model: LogisticRegression(C=1, max_iter=1000)\n",
            "    accuracy_score: 1.0\n",
            "    precision_score: 1.0 \n",
            "    recall_score: 1.0\n",
            "    latency: 0.000476837158203125s\n",
            "  \n"
          ]
        },
        {
          "output_type": "execute_result",
          "data": {
            "text/plain": [
              "<matplotlib.axes._subplots.AxesSubplot at 0x7fc24f71d5e0>"
            ]
          },
          "metadata": {},
          "execution_count": 49
        },
        {
          "output_type": "display_data",
          "data": {
            "text/plain": [
              "<Figure size 432x288 with 2 Axes>"
            ],
            "image/png": "[encoded data removed]"
          },
          "metadata": {
            "needs_background": "light"
          }
        }
      ]
    },
    {
      "cell_type": "markdown",
      "source": [
        "##### Model 3 (Multi Layer Perceptron)"
      ],
      "metadata": {
        "id": "LqZWFFKntXL2"
      }
    },
    {
      "cell_type": "code",
      "source": [
        "cm_mlp1 = analyse_scores(mlp1)\n",
        "sns.heatmap(data=cm_mlp1, cmap='Blues')"
      ],
      "metadata": {
        "colab": {
          "base_uri": "https://localhost:8080/",
          "height": 415
        },
        "id": "TaYJlz2ttFFH",
        "outputId": "b6c64021-b92b-4840-bd38-78cbe6231e43"
      },
      "execution_count": 50,
      "outputs": [
        {
          "output_type": "stream",
          "name": "stdout",
          "text": [
            "\n",
            "    model: MLPClassifier(activation='tanh', learning_rate='adaptive', max_iter=1000)\n",
            "    accuracy_score: 1.0\n",
            "    precision_score: 1.0 \n",
            "    recall_score: 1.0\n",
            "    latency: 0.000476837158203125s\n",
            "  \n"
          ]
        },
        {
          "output_type": "execute_result",
          "data": {
            "text/plain": [
              "<matplotlib.axes._subplots.AxesSubplot at 0x7fc24f6a39d0>"
            ]
          },
          "metadata": {},
          "execution_count": 50
        },
        {
          "output_type": "display_data",
          "data": {
            "text/plain": [
              "<Figure size 432x288 with 2 Axes>"
            ],
            "image/png": "[encoded data removed]"
          },
          "metadata": {
            "needs_background": "light"
          }
        }
      ]
    },
    {
      "cell_type": "markdown",
      "source": [
        "# Analysis on results"
      ],
      "metadata": {
        "id": "ia3lug-R40mA"
      }
    },
    {
      "cell_type": "markdown",
      "source": [
        "It is observed that **80:10:10** split gives a better accuracy than **60:10:10**.  The possible reason behind this could be that as the dataset has a very small amount of data, training with a higher percentage of samples allows the model to make better predictions as the more the training data the better the results of the model.\n",
        "<br /> <br />\n",
        "Overall, all the models performed pretty well asupported by the metrics mainly because the dataset is small and data is distributed well.  <br /> <br />\n",
        "However, one thing to make note of is that Random Forest took the most amount of time to predict the values and it was pretty slow as compared to the other models. <br /><br />\n",
        "As seen in the heat map generated from the confusion matrix of each prediction, there are very less errors and model is able to predict accurately. "
      ],
      "metadata": {
        "id": "IoQjCMbUAJNm"
      }
    },
    {
      "cell_type": "markdown",
      "source": [
        "> \n",
        "80:10:10 split\n",
        "---\n",
        "  - Since it is a relatively small dataset with the features having a similar pattern as Gaussian distribution, all classification models are able to able to predict the data accurately.   \n",
        "   "
      ],
      "metadata": {
        "id": "PMrr1haE43r4"
      }
    },
    {
      "cell_type": "markdown",
      "source": [
        "60:20:20 split\n",
        "---\n",
        "\n",
        "\n",
        "  -   It is observed that all models are able to predict the data with complete accuracy for testing data.\n",
        "  -  For validation data, LogisticRegression is able to predict the values with full accuracy(100%) whereas other 2 models (Random Forest and MLPClassifier) give ~96% accuracy. \n",
        "  \n",
        "   "
      ],
      "metadata": {
        "id": "ccxb1sr8AY1e"
      }
    }
  ]
}